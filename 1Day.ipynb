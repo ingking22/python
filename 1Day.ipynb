{
 "cells": [
  {
   "cell_type": "code",
   "execution_count": 7,
   "id": "9e9f676f-8668-4bc6-b5a9-7e0426de0b6e",
   "metadata": {},
   "outputs": [
    {
     "name": "stdout",
     "output_type": "stream",
     "text": [
      "6\n",
      "9\n",
      "6\n",
      "9\n"
     ]
    }
   ],
   "source": [
    "# 파이썬은 행단위 언어이다 .\n",
    "print(3 + 3);\n",
    "print(3 * 3);\n",
    "print(3 + 3); print(3 * 3);"
   ]
  },
  {
   "cell_type": "code",
   "execution_count": 11,
   "id": "63b8793a-e633-4a5e-87ce-5de3d13667dc",
   "metadata": {},
   "outputs": [
    {
     "name": "stdout",
     "output_type": "stream",
     "text": [
      "9\n",
      "10\n",
      "20\n"
     ]
    }
   ],
   "source": [
    "a = 10 ; a=9 ; print(a);\n",
    "'''\n",
    "# 파이썬 기본 자료형\n",
    "# 리터널 : 숫자(자연수) : 정수 -> 10, 5\n",
    "#                 실수 -> 10.1 , 20.1\n",
    "#          문자(자연어) : 한국어, 영어, 등등 : 가 , apple,\n",
    "'''\n",
    "a = 10; # a 는 변수 : 값을 저장하기 위한 문자 등호에서 왼쪽에 있는 문자.\n",
    "print(a);\n",
    "print(10 + a);"
   ]
  },
  {
   "cell_type": "code",
   "execution_count": 12,
   "id": "2217eee7-1b51-4738-90a0-eaa74078b738",
   "metadata": {},
   "outputs": [
    {
     "name": "stdout",
     "output_type": "stream",
     "text": [
      "10\n",
      "20\n"
     ]
    }
   ],
   "source": [
    "print(a)\n",
    "a = 20 \n",
    "print(a)\n",
    "# 순차적 프로그래밍 언어 \n",
    "# 변수는 오로지 하나의 값만 저장"
   ]
  },
  {
   "cell_type": "code",
   "execution_count": 14,
   "id": "e1df5ceb-3052-4ad6-b141-21d0f22429dd",
   "metadata": {},
   "outputs": [
    {
     "ename": "NameError",
     "evalue": "name 'j' is not defined",
     "output_type": "error",
     "traceback": [
      "\u001b[1;31m---------------------------------------------------------------------------\u001b[0m",
      "\u001b[1;31mNameError\u001b[0m                                 Traceback (most recent call last)",
      "Cell \u001b[1;32mIn[14], line 1\u001b[0m\n\u001b[1;32m----> 1\u001b[0m \u001b[38;5;28mprint\u001b[39m(\u001b[43mj\u001b[49m); \u001b[38;5;66;03m# 초기값 가져야 한다 \u001b[39;00m\n",
      "\u001b[1;31mNameError\u001b[0m: name 'j' is not defined"
     ]
    }
   ],
   "source": [
    "print(j); # -> 에러발생 \n",
    "# 초기값 가져야 한다 "
   ]
  },
  {
   "cell_type": "code",
   "execution_count": null,
   "id": "ee75ebb8-4714-4830-8541-5a77f417876e",
   "metadata": {},
   "outputs": [],
   "source": [
    "i = 10 # i라는 변수는 정수 리터널 값을 저장 \n",
    "i = 10.1 # i 라는 변수는 실수 리터널 값을 저장"
   ]
  },
  {
   "cell_type": "code",
   "execution_count": 20,
   "id": "c11558fa-3f48-4607-ba09-602736536927",
   "metadata": {},
   "outputs": [
    {
     "name": "stdout",
     "output_type": "stream",
     "text": [
      "30\n",
      "-10\n",
      "200\n",
      "0.5\n",
      "1\n",
      "3\n",
      "1000\n",
      "10\n"
     ]
    }
   ],
   "source": [
    "# 자연수 리터널ㅇㅣ 사용하는 연산자 : +, - , * , / , % , // , ** \n",
    "i = 10; \n",
    "j = 20;\n",
    "print( i + j);\n",
    "print( i - j);\n",
    "print( i * j);\n",
    "print( i / j);\n",
    "\n",
    "#나머지 \n",
    "print(10 % 3);\n",
    "\n",
    "#몫\n",
    "print(10 // 3);\n",
    "\n",
    "#제곱\n",
    "print(10 ** 3);\n",
    "\n",
    "# \n",
    "윤병준 = 10\n",
    "print(윤병준);\n",
    "윤병준 = j ; # j 라는 값을 윤병준에 변수에 대입\n"
   ]
  },
  {
   "cell_type": "code",
   "execution_count": 26,
   "id": "24c4ed5e-5719-478d-a7ab-0ba94e4c5c89",
   "metadata": {},
   "outputs": [
    {
     "name": "stdout",
     "output_type": "stream",
     "text": [
      "j\n"
     ]
    },
    {
     "ename": "TypeError",
     "evalue": "unsupported operand type(s) for +: 'int' and 'str'",
     "output_type": "error",
     "traceback": [
      "\u001b[1;31m---------------------------------------------------------------------------\u001b[0m",
      "\u001b[1;31mTypeError\u001b[0m                                 Traceback (most recent call last)",
      "Cell \u001b[1;32mIn[26], line 6\u001b[0m\n\u001b[0;32m      3\u001b[0m \u001b[38;5;28mprint\u001b[39m(i);\n\u001b[0;32m      4\u001b[0m str1 \u001b[38;5;241m=\u001b[39m \u001b[38;5;124m\"\u001b[39m\u001b[38;5;124m10\u001b[39m\u001b[38;5;124m\"\u001b[39m; \u001b[38;5;66;03m# 문자 리터널 \u001b[39;00m\n\u001b[1;32m----> 6\u001b[0m \u001b[38;5;28mprint\u001b[39m(\u001b[38;5;241;43m10\u001b[39;49m\u001b[43m \u001b[49m\u001b[38;5;241;43m+\u001b[39;49m\u001b[43m \u001b[49m\u001b[43mstr1\u001b[49m);   \u001b[38;5;66;03m# 에러 발생 -> TypeError: unsupported operand type(s) for +: 'int' and 'str'\u001b[39;00m\n\u001b[0;32m      8\u001b[0m \u001b[38;5;28mprint\u001b[39m(\u001b[38;5;28mtype\u001b[39m(str1));\n",
      "\u001b[1;31mTypeError\u001b[0m: unsupported operand type(s) for +: 'int' and 'str'"
     ]
    }
   ],
   "source": [
    "# 자연어 리터널 : 문자열 : \"윤병준\", '윤병준' -> \"\" , ''\n",
    "i = \"j\";\n",
    "print(i);\n",
    "str1 = \"10\"; # 문자 리터널 \n",
    "\n",
    "print(10 + str1);   # 에러 발생 -> TypeError: unsupported operand type(s) for +: 'int' and 'str'\n"
   ]
  },
  {
   "cell_type": "code",
   "execution_count": 27,
   "id": "b1ddefbb-ab1c-493b-8910-49ec8dea2fe8",
   "metadata": {},
   "outputs": [
    {
     "name": "stdout",
     "output_type": "stream",
     "text": [
      "<class 'str'>\n"
     ]
    }
   ],
   "source": [
    "print(type(str1));    #객체 지향 언어라 class "
   ]
  },
  {
   "cell_type": "code",
   "execution_count": 28,
   "id": "0084719a-28ea-4b8c-95be-382c9514c11d",
   "metadata": {},
   "outputs": [
    {
     "name": "stdout",
     "output_type": "stream",
     "text": [
      "10\n",
      "10.1\n",
      "윤병준\n"
     ]
    }
   ],
   "source": [
    "i=10 ;\n",
    "print(i);\n",
    "i=10.1;\n",
    "print(i);\n",
    "i=\"윤병준\";\n",
    "print(i);"
   ]
  },
  {
   "cell_type": "code",
   "execution_count": 30,
   "id": "514498ba-47e8-4dcb-bb69-4f8e9b5d7424",
   "metadata": {},
   "outputs": [
    {
     "name": "stdout",
     "output_type": "stream",
     "text": [
      "100\n"
     ]
    }
   ],
   "source": [
    "#변수명은 문자이어야 한다.\n",
    "#1윤 = 10; SyntaxError: invalid syntax\n",
    "윤1 = 100;  # 이건 사용가능\n",
    "print(윤1);"
   ]
  },
  {
   "cell_type": "code",
   "execution_count": 38,
   "id": "e8bb0e20-330d-4962-a3ab-90f4b054abe7",
   "metadata": {},
   "outputs": [
    {
     "name": "stdout",
     "output_type": "stream",
     "text": [
      "20\n",
      "python is fun\n",
      "python 3\n",
      "python is fun\n",
      "pythonpythonpython\n",
      "==========================================================================================\n",
      "파이썬 가주아 !!!!\n",
      "==========================================================================================\n"
     ]
    }
   ],
   "source": [
    "# 문자리터널 연산자 : + , *   -> 숫자리터널 연산자와 의미가 다르다 \n",
    "print(10 + 10 ) # -> 20 덧셈연산\n",
    "head = \"python \";\n",
    "tail = \"is fun\";\n",
    "print(head + tail); #  + :  연결 연산자\n",
    "# print(head + 3 );  # 에러 발생 : TypeError: can only concatenate str (not \"int\") to str\n",
    "print(head + str(3));\n",
    "\n",
    "head = \"python\";\n",
    "tail = \"is fun\";\n",
    "print(head + \" \" +  tail);  #공백문자      \n",
    "                            #이항연산자 : 항은 문자이어야 한다.\n",
    "\n",
    "print(head * 3) # 반복연산자  \n",
    "                # 이항연산자 : 1항은 문자 2항은 숫자 \n",
    "\n",
    "print(\"===\" * 30);\n",
    "print(\"파이썬 가주아 !!!!\");\n",
    "print(\"===\" * 30);\n",
    "\n"
   ]
  },
  {
   "cell_type": "code",
   "execution_count": 51,
   "id": "8a575b1c-583a-43cd-8cb5-c336e51125f1",
   "metadata": {},
   "outputs": [
    {
     "name": "stdout",
     "output_type": "stream",
     "text": [
      "우아아아아아아아, 가주아 아아아아아앙아\n",
      "우아아아아아아아,\n",
      " 가주아 아아아아아앙아\n",
      "우아아아아아아아,\t 가주아 아아아아아앙아\n",
      "우아아아아아아아,\\ 가주아 아아아아아앙아\n",
      "우아아아아아아아,\\ 가주아 아아아아아앙아\n",
      "우아아아'아아아아,\\ 가주아 아아아아아앙아\n",
      "우아아아'아아아아, 가주아 아아아아아앙아\n",
      "우아아아아아아아, \"가주아\" 아아아아아앙아\n",
      "우아아아아아아아, \"가주아\" 아아아아아앙아\n",
      "우아아아아아아아, \n",
      "    \"가주아\" 아아아아아앙아\n",
      "우아아아아'아아아, \n",
      "    가주아 아아아아아앙아\n"
     ]
    }
   ],
   "source": [
    "str1 = \"우아아아아아아아, 가주아 아아아아아앙아\";\n",
    "print(str1);\n",
    "\n",
    "str1 = \"우아아아아아아아,\\n 가주아 아아아아아앙아\";    #이스케이프 \\n \\t \\\\\n",
    "print(str1);\n",
    "\n",
    "str1 = \"우아아아아아아아,\\t 가주아 아아아아아앙아\";  \n",
    "print(str1);\n",
    "\n",
    "str1 = \"우아아아아아아아,\\\\ 가주아 아아아아아앙아\";  \n",
    "print(str1);\n",
    "\n",
    "\n",
    "str1 = '우아아아아아아아,\\\\ 가주아 아아아아아앙아';  \n",
    "print(str1);\n",
    "\n",
    "str1 = '우아아아\\'아아아아,\\\\ 가주아 아아아아아앙아';  \n",
    "print(str1);\n",
    "\n",
    "str1 = \"우아아아'아아아아, 가주아 아아아아아앙아\";  \n",
    "print(str1);\n",
    "\n",
    "str1 = \"우아아아아아아아, \\\"가주아\\\" 아아아아아앙아\";  \n",
    "print(str1);\n",
    "\n",
    "str1 = '우아아아아아아아, \"가주아\" 아아아아아앙아';  \n",
    "print(str1);\n",
    "\n",
    "\n",
    "str1 = '''우아아아아아아아, \n",
    "    \"가주아\" 아아아아아앙아''';  \n",
    "print(str1);\n",
    "\n",
    "str1 = \"\"\"우아아아아'아아아, \n",
    "    가주아 아아아아아앙아\"\"\";  \n",
    "print(str1);\n",
    "\n",
    "#문자열 표기법 : \" \", ' ' , \"\"\" \"\"\" , ''' '''\n"
   ]
  },
  {
   "cell_type": "code",
   "execution_count": 53,
   "id": "d8dcc3a5-eef3-434d-bf8b-24fca607c863",
   "metadata": {},
   "outputs": [
    {
     "name": "stdout",
     "output_type": "stream",
     "text": [
      "우아아아아아아아, 가주아 아아아아아앙아\n",
      "21\n",
      "3\n"
     ]
    }
   ],
   "source": [
    "str1 = \"우아아아아아아아, 가주아 아아아아아앙아\";\n",
    "print(str1);\n",
    "\n",
    "# 문자열의 갯수 \n",
    "print(len(str1));\n",
    "str1 = \"윤병준\";\n",
    "print(len(str1));"
   ]
  },
  {
   "cell_type": "code",
   "execution_count": 57,
   "id": "852d1e09-7453-470d-bfde-aae84eb659d5",
   "metadata": {},
   "outputs": [
    {
     "name": "stdout",
     "output_type": "stream",
     "text": [
      "우아아아아아아아, 가주아 아아아아아앙아\n",
      ",\n",
      ",\n",
      "아\n"
     ]
    }
   ],
   "source": [
    "# 문자열 indexing : index 란 문자가 가지고 있는 위치를 나타내는 고유의 번호\n",
    "# 문자의 시작은 0번 부터 시작.\n",
    "str1 = \"우아아아아아아아, 가주아 아아아아아앙아\";\n",
    "#       0 1 2 3 \n",
    "# 마지막 index 는 크기보다 1작다.(0부터 시작하기 때문)\n",
    "print(str1);\n",
    "print(str1[8]);\n",
    "print(str1[9-1]);\n",
    "print(str1[len(str1)-1]);"
   ]
  },
  {
   "cell_type": "code",
   "execution_count": 58,
   "id": "5772a567-161d-4415-a1e7-bb41c800c7df",
   "metadata": {},
   "outputs": [
    {
     "name": "stdout",
     "output_type": "stream",
     "text": [
      "아\n"
     ]
    }
   ],
   "source": [
    "str1 = \"우아아아아아아아\"\n",
    "print(\"우아아아아아아아\"[len(str1)-1]);"
   ]
  },
  {
   "cell_type": "code",
   "execution_count": 60,
   "id": "ab6649d3-50f7-46dc-bbc1-a35f7733bae3",
   "metadata": {},
   "outputs": [
    {
     "name": "stdout",
     "output_type": "stream",
     "text": [
      "아\n",
      "우\n"
     ]
    }
   ],
   "source": [
    "str1 = \"우아아아아아아아\"\n",
    "#       0 1 2 3 4 5 6 7\n",
    "# \n",
    "# -     8 7 6 5 4 3 2 1\n",
    "\n",
    "print(str1[-4]);\n",
    "print(str1[-len(str1)]);\n",
    "\n"
   ]
  },
  {
   "cell_type": "code",
   "execution_count": 61,
   "id": "01b38b0e-8e8d-4864-b6f0-faca46bcce1e",
   "metadata": {},
   "outputs": [
    {
     "name": "stdout",
     "output_type": "stream",
     "text": [
      "우아아아\n"
     ]
    }
   ],
   "source": [
    "str1 = \"우아아아아아아아\"\n",
    "#       01234\n",
    "print(str1[0] + str1[1] +  str1[2] + str1[3]);\n"
   ]
  },
  {
   "cell_type": "code",
   "execution_count": 69,
   "id": "87e88ab4-53bc-4af6-b2b6-7286119bea48",
   "metadata": {},
   "outputs": [
    {
     "name": "stdout",
     "output_type": "stream",
     "text": [
      "우아아아\n",
      "아아아아\n",
      "아아아아아\n"
     ]
    },
    {
     "name": "stdin",
     "output_type": "stream",
     "text": [
      "숫자를입력하세요. 3\n"
     ]
    },
    {
     "name": "stdout",
     "output_type": "stream",
     "text": [
      "3\n",
      "아아아\n"
     ]
    }
   ],
   "source": [
    "#sliceing : 문자열 자르기 \n",
    "str1 = \"우아아아아아아아\"\n",
    "\n",
    "print(str1[0:4]);  # start : 0 , end : 4\n",
    "print(str1[3:7]);\n",
    "print(str1[3:3+5]);\n",
    "wordCount = int(input(\"숫자를입력하세요.\"))\n",
    "print(wordCount);\n",
    "print(str1[3:3+wordCount]);"
   ]
  },
  {
   "cell_type": "code",
   "execution_count": 75,
   "id": "c13b9795-2b72-4ebb-bb8c-0b09058ec0f2",
   "metadata": {},
   "outputs": [
    {
     "name": "stdout",
     "output_type": "stream",
     "text": [
      "우아아아\n",
      "우아아아\n",
      "아아아아아\n",
      "아아아아아\n",
      "우아아아아아아아\n",
      "우아아아\n"
     ]
    }
   ],
   "source": [
    "str1 = \"우아아아아아아아\"\n",
    "\n",
    "print(str1[0:0+4]);\n",
    "print(str1[:4]);\n",
    "print(str1[3:len(str1)]);\n",
    "print(str1[3:]);\n",
    "print(str1[:]);\n",
    "print(str1[:-4]);\n",
    "\n"
   ]
  },
  {
   "cell_type": "code",
   "execution_count": 80,
   "id": "caac4359-c59c-48dd-a43f-8875328631fb",
   "metadata": {},
   "outputs": [
    {
     "name": "stdout",
     "output_type": "stream",
     "text": [
      "2001년\n",
      "03월\n",
      "31일\n",
      "이름은 Rainy입니다\n"
     ]
    }
   ],
   "source": [
    "# 날짜(년, 월, 일)와 이름을 분리하여 출력\n",
    "a = \"20010331Rainy\"\n",
    "print(a[:4]+\"년\");\n",
    "print(a[4:4+2]+\"월\");\n",
    "print(a[6:6+2]+\"일\");\n",
    "print(\"이름은 \" +a[8:8+5] +\"입니다\");"
   ]
  },
  {
   "cell_type": "code",
   "execution_count": 89,
   "id": "ab3a8679-22e6-4263-b608-441eadd2b71c",
   "metadata": {},
   "outputs": [
    {
     "name": "stdout",
     "output_type": "stream",
     "text": [
      "우2\n",
      "우246\n",
      "7654321우\n",
      "246\n",
      "765432\n",
      "7654321우\n",
      "25\n"
     ]
    }
   ],
   "source": [
    "str1 = \"우1234567\"\n",
    "\n",
    "# 하나 건너서 출력\n",
    "print(str1[0:4:2]);\n",
    "print(str1[::2]);\n",
    "print(str1[::-1]);   # 거꾸로 출력\n",
    "\n",
    "#2번부터 13까지 하나 건너서 출력\n",
    "print(str1[2:14:2]);\n",
    "\n",
    "#13번부터 2번까지 reverse   !!!!!!!!!!!!!\n",
    "print(str1[13:1:-1]);\n",
    "print(str1[13::-1]);\n",
    "\n",
    "#2번부터 13번까지 두글자씩 건너서 출력\n",
    "print(str1[2:14:3]);\n"
   ]
  },
  {
   "cell_type": "code",
   "execution_count": 87,
   "id": "0c6e6a4e-869e-4cae-b151-b87bdb8dcf6a",
   "metadata": {},
   "outputs": [
    {
     "name": "stdout",
     "output_type": "stream",
     "text": [
      "python\n"
     ]
    }
   ],
   "source": [
    "str1=\"pithon\";  # 문자열의 경우 하나의 문자만 변경할수 없다.\n",
    "print(str1[0] + \"y\" + str1[2:]);"
   ]
  },
  {
   "cell_type": "code",
   "execution_count": 95,
   "id": "77e154fd-eb85-4ac4-8288-53b9c48a7c78",
   "metadata": {},
   "outputs": [
    {
     "name": "stdin",
     "output_type": "stream",
     "text": [
      "숫자를 입력해 주세요!. 20\n"
     ]
    },
    {
     "name": "stdout",
     "output_type": "stream",
     "text": [
      "나의 이름은 윤병준이고 나이는 20살입니다.\n",
      "나의 이름은 윤병준이고 나이는 20살입니다.\n"
     ]
    },
    {
     "name": "stdin",
     "output_type": "stream",
     "text": [
      "이름을 입력하세요 윤병준\n"
     ]
    },
    {
     "name": "stdout",
     "output_type": "stream",
     "text": [
      "나의 이름은 윤병준이고 나이는 20살입니다.\n",
      "나의 이름은 윤병준이고 나이는 20살입니다.\n"
     ]
    }
   ],
   "source": [
    "#문자열 포매팅 : %d : 숫자,  %s : 문자열  , %f : 실수, %c : 문자\n",
    "#문자열 포매팅 : %d : 숫자(10진정수 : decimal),  %s : 문자열(string)  , %f : 실수(float), %c : 문자()\n",
    "'나의 이름은 윤병준이고 나이는 20살입니다.'\n",
    "\n",
    "age=int(input(\"숫자를 입력해 주세요!.\"))\n",
    "print('나의 이름은 윤병준이고 나이는 '+ str(age) + '살입니다.');\n",
    "print('나의 이름은 윤병준이고 나이는 %d살입니다.' % age);\n",
    "name = input(\"이름을 입력하세요\");\n",
    "print('나의 이름은 %s이고 나이는 %d살입니다.' % (name, age));\n",
    "str2 = '나의 이름은 %s이고 나이는 %d살입니다.' % (name, age)\n",
    "print(str2);\n",
    "\n",
    "\n"
   ]
  },
  {
   "cell_type": "code",
   "execution_count": 96,
   "id": "4f7759c8-2e7f-40a6-8376-e5b21b88d358",
   "metadata": {},
   "outputs": [
    {
     "name": "stdout",
     "output_type": "stream",
     "text": [
      "윤주원의 계좌번호는 2222이고 잔액은 1000입니다.\n"
     ]
    }
   ],
   "source": [
    "'윤병준의 계좌번호는 1111이고 잔액은 100입니다.'\n",
    "name = '윤주원'\n",
    "account = '2222'\n",
    "money = 1000\n",
    "str2 = '%s의 계좌번호는 %s이고 잔액은 %d입니다.' %(name, account, money);   #윤주원의 나이는 20살이고 키는 186.700000입니다\n",
    "print(str2);"
   ]
  },
  {
   "cell_type": "code",
   "execution_count": 106,
   "id": "bbdc6558-06af-452c-a519-2c3ce76f80fd",
   "metadata": {},
   "outputs": [
    {
     "name": "stdout",
     "output_type": "stream",
     "text": [
      "윤주원의 나이는 20살이고 키는 186.780000입니다\n",
      "윤주원의 나이는 20살이고 키는 186.78입니다\n",
      "윤주원의 나이는 20살이고 키는 186.8입니다\n",
      "윤주원의 나이는 20살이고 키는      186.8입니다\n",
      "윤주원의 나이는 20살이고 키는 186.8입니다\n",
      "윤주원의 나이는 20살이고 키는 186.8입니다\n",
      "윤주원의 나이는 20살이고 키는 186.78입니다\n"
     ]
    }
   ],
   "source": [
    "name = '윤주원';\n",
    "age = 20;\n",
    "height = 186.78;\n",
    "\n",
    "result = '%s의 나이는 %d살이고 키는 %f입니다' %(name, age, height);   #윤주원의 나이는 20살이고 키는 186.780000입니다\n",
    "print(result);\n",
    "\n",
    "result = '%s의 나이는 %d살이고 키는 %6.2f입니다' %(name, age, height); # 윤주원의 나이는 20살이고 키는 186.78입니다\n",
    "print(result);\n",
    "# 99.999999 : 소수점-> 정밀도\n",
    "\n",
    "result = '%s의 나이는 %d살이고 키는 %5.1f입니다' %(name, age, height); # 윤주원의 나이는 20살이고 키는 186.8입니다\n",
    "print(result);\n",
    "\n",
    "result = '%s의 나이는 %d살이고 키는 %10.1f입니다' %(name, age, height); # 윤주원의 나이는 20살이고 키는      186.8입니다\n",
    "print(result);\n",
    "\n",
    "result = '%s의 나이는 %d살이고 키는 %1.1f입니다' %(name, age, height); # 윤주원의 나이는 20살이고 키는 186.8입니다\n",
    "print(result);\n",
    "\n",
    "result = '%s의 나이는 %d살이고 키는 %.1f입니다' %(name, age, height); # 윤주원의 나이는 20살이고 키는 186.8입니다\n",
    "print(result);\n",
    "\n",
    "result = '%s의 나이는 %s살이고 키는 %s입니다' %(name, age, height); #윤주원의 나이는 20살이고 키는 186.78입니다\n",
    "print(result);\n"
   ]
  },
  {
   "cell_type": "code",
   "execution_count": 113,
   "id": "395523cb-2eb4-4554-bf4a-c444d3afdadd",
   "metadata": {},
   "outputs": [
    {
     "name": "stdout",
     "output_type": "stream",
     "text": [
      "       윤주원의 나이는         20살이고 키는     186.78입니다\n",
      "윤주원       의 나이는 20        살이고 키는 186.78    입니다\n",
      "윤주원       의 나이는 20        살이고 키는 186.78    입니다\n"
     ]
    }
   ],
   "source": [
    "# 정렬 : -는 왼쪽정렬, +는 오른쪽 정렬\n",
    "\n",
    "result = '%10s의 나이는 %10d살이고 키는 %10.2f입니다' %(name, age, height);   #윤주원의 나이는 20살이고 키는 186.780000입니다\n",
    "print(result);\n",
    "\n",
    "result = '%-10s의 나이는 %-10d살이고 키는 %-10.2f입니다' %(name, age, height);   #윤주원의 나이는 20살이고 키는 186.780000입니다\n",
    "print(result);\n",
    "\n",
    "result = '%-10s의 나이는 %-10d살이고 키는 %-10.2f입니다' %(\"윤주원\", age, height);   #윤주원의 나이는 20살이고 키는 186.780000입니다\n",
    "print(result);"
   ]
  },
  {
   "cell_type": "code",
   "execution_count": 117,
   "id": "2e90cf8f-75df-4ce4-a8c0-06d4b1ce3f42",
   "metadata": {},
   "outputs": [
    {
     "name": "stdout",
     "output_type": "stream",
     "text": [
      "윤주원의 나이는 20살이고 키는 186.780000입니다\n",
      "윤주원의 나이는 20살이고 키는 186.78입니다\n",
      "윤병준의 나이는 20살이고 키는 186.78입니다\n",
      "윤주원의 나이는 20살이고 키는 183.26입니다\n",
      "윤주원의 나이는 20살이고 키는 183.26입니다\n"
     ]
    }
   ],
   "source": [
    "#format 함수를 사용한 포매팅\n",
    "#변수 : a, i , j, str1\n",
    "#함수 : print(), int(), str(), format()\n",
    "result = '%s의 나이는 %d살이고 키는 %f입니다' %(name, age, height);   #윤주원의 나이는 20살이고 키는 186.780000입니다\n",
    "print(result);\n",
    "\n",
    "print( '{1}의 나이는 {0}살이고 키는 {2}입니다'.format(age, name, height));\n",
    "#                                                   0   1      2\n",
    "\n",
    "print( '{1}의 나이는 {0}살이고 키는 {2}입니다'.format(age, \"윤병준\", height));\n",
    "\n",
    "print( '{1}의 나이는 {0}살이고 키는 {2}입니다'.format(age, name, 183.26));\n",
    "\n",
    "print( '{}의 나이는 {}살이고 키는 {}입니다'.format(name,age, 183.26));\n",
    "\n"
   ]
  },
  {
   "cell_type": "code",
   "execution_count": 121,
   "id": "12f2569d-e69b-499a-b336-e11143195dd0",
   "metadata": {},
   "outputs": [
    {
     "ename": "SyntaxError",
     "evalue": "positional argument follows keyword argument (2173245307.py, line 7)",
     "output_type": "error",
     "traceback": [
      "\u001b[1;36m  Cell \u001b[1;32mIn[121], line 7\u001b[1;36m\u001b[0m\n\u001b[1;33m    print( '{n}의 나이는 {0}살이고 키는 {f}입니다'.format(age, n=name, 183.26));\u001b[0m\n\u001b[1;37m                                                                 ^\u001b[0m\n\u001b[1;31mSyntaxError\u001b[0m\u001b[1;31m:\u001b[0m positional argument follows keyword argument\n"
     ]
    }
   ],
   "source": [
    "#format 함수에 이름으로 넣기\n",
    "\n",
    "print( '{1}의 나이는 {0}살이고 키는 {f}입니다'.format(age, name, f=183.26));\n",
    "\n",
    "print( '{n}의 나이는 {0}살이고 키는 {f}입니다'.format(age, n=name, f=183.26));\n",
    "\n",
    "# print( '{n}의 나이는 {0}살이고 키는 {f}입니다'.format(age, n=name, 183.26));   # SyntaxError: positional argument follows keyword argument\n",
    "#                                                       0      n\n",
    "# 이름은 뒤에서부터 순차적으로 부여!!!!!\n",
    "\n",
    "\n",
    "\n"
   ]
  },
  {
   "cell_type": "code",
   "execution_count": 132,
   "id": "8e298fa4-3873-426b-8c9b-79bdb7af57e7",
   "metadata": {},
   "outputs": [
    {
     "name": "stdout",
     "output_type": "stream",
     "text": [
      "       윤주원의 나이는         20살이고 키는     186.78입니다\n",
      "윤주원       의 나이는         20살이고 키는     183.26입니다\n",
      "       윤주원의 나이는 20        살이고 키는 183.26    입니다\n",
      "   윤주원    의 나이는     20    살이고 키는   183.26  입니다\n",
      "---윤주원----의 나이는 !!!!20!!!!살이고 키는 **183.26**입니다\n",
      "{윤병준}의 나이는 !!!!20!!!!살이고 키는 **183.26**입니다\n",
      "{2}의 나이는 !!!!20!!!!살이고 키는 **183.26**입니다\n"
     ]
    }
   ],
   "source": [
    "#format 함수를 이용한 정렬   :  왼쪽 : <  , 오른쪽 정렬 : > , 가운데 정렬 : ^\n",
    "print('%10s의 나이는 %10d살이고 키는 %10.2f입니다' %(name, age, height));\n",
    "print( '{1:10}의 나이는 {0:10}살이고 키는 {2:10}입니다'.format(age, name, 183.26));\n",
    "#문자는 왼쪽 숫자는 오른쪽\n",
    "\n",
    "print( '{1:>10}의 나이는 {0:<10}살이고 키는 {2:<10}입니다'.format(age, name, 183.26));\n",
    "print( '{1:^10}의 나이는 {0:^10}살이고 키는 {2:^10}입니다'.format(age, name, 183.26));\n",
    "print( '{1:-^10}의 나이는 {0:!^10}살이고 키는 {2:*^10}입니다'.format(age, name, 183.26));\n",
    "\n",
    "\n",
    "#print( '{윤병준}의 나이는 {0:!^10}살이고 키는 {1:*^10}입니다'.format(age, 183.26));  에러 발생\n",
    "\n",
    "print( '{{윤병준}}의 나이는 {0:!^10}살이고 키는 {1:*^10}입니다'.format(age, 183.26));\n",
    "\n",
    "#  print( '\\{윤병준\\}의 나이는 {0:!^10}살이고 키는 {1:*^10}입니다'.format(age, 183.26)); 에러 발생\n",
    "\n",
    "print( '{{2}}의 나이는 {0:!^10}살이고 키는 {1:*^10}입니다'.format(age, 183.26, name));\n",
    "\n"
   ]
  },
  {
   "cell_type": "code",
   "execution_count": 140,
   "id": "48ba965d-546b-4fe6-91e8-793ffa32ee39",
   "metadata": {},
   "outputs": [
    {
     "name": "stdout",
     "output_type": "stream",
     "text": [
      "윤병준은 나이가 20살이고 키는 186.600000입니다.\n",
      "윤병준은 나이가 20살이고 키는 186.600입니다.\n",
      "윤병준은 나이가 20살이고 키는 186.6입니다.\n",
      "윤병준은 나이가 20살이고 키는 186.6입니다.\n",
      "윤병준은 나이가 20살이고 키는 186.600입니다.\n"
     ]
    }
   ],
   "source": [
    "#f 문자열 포매팅\n",
    "name = \"윤병준\";\n",
    "age = 20;\n",
    "height = 186.6;\n",
    "'윤병준은 나이가 20살이고 키는 186.6입니다.'\n",
    "print('%s은 나이가 %d살이고 키는 %f입니다.' %(name, age, height));  #포맷문자열 포매팅     \n",
    "print('{0}은 나이가 {1}살이고 키는 {2:.3f}입니다.' .format(name, age, height)); # 포맷함수 포매팅\n",
    "print(f'{name}은 나이가 {age}살이고 키는 {height}입니다.');\n",
    "print(f'{name}은 나이가 {age}살이고 키는 {height}입니다.');\n",
    "\n",
    "result =  f'{name}은 나이가 {age}살이고 키는 {height:.3f}입니다.';\n",
    "print(result);\n",
    "\n"
   ]
  },
  {
   "cell_type": "code",
   "execution_count": 142,
   "id": "8c9046fd-ccad-46f7-9cbe-cc07e9a76f68",
   "metadata": {},
   "outputs": [
    {
     "name": "stdout",
     "output_type": "stream",
     "text": [
      "17\n",
      "17\n",
      "2\n",
      "2\n"
     ]
    }
   ],
   "source": [
    "#문자열 가공 : 문자열 함수 \n",
    "str1 = \"Life is too short\"   # indexing , slicing\n",
    "print(len(str1));\n",
    "print(len(\"Life is too short\"));\n",
    "\n",
    "# 특정문자의 개수 \n",
    "print(str1.count('s'));   # 특정 문지의 갯수\n",
    "print(\"Life is too short\".count('s'));\n"
   ]
  },
  {
   "cell_type": "code",
   "execution_count": 148,
   "id": "a222c5f8-2075-4fe8-82b1-079225e010d8",
   "metadata": {},
   "outputs": [
    {
     "name": "stdout",
     "output_type": "stream",
     "text": [
      "Life is too short\n",
      "8\n",
      "too\n",
      "too\n",
      "too\n",
      "8\n"
     ]
    }
   ],
   "source": [
    "print(str1);\n",
    "# \"too\" 라는 글자 출력\n",
    "idx = str1.index(\"too\");\n",
    "str2 = \"too\";\n",
    "print(idx);\n",
    "print(str1[idx:idx+3]);\n",
    "print(str1[idx:idx+len(str2)]);\n",
    "print(str1[str1.index(\"too\"):str1.index(\"too\")+len(str2)]);\n",
    "\n",
    "idx = str1.index(\"t\");\n",
    "print(idx);  # 첫번쨰 인덱스\n"
   ]
  },
  {
   "cell_type": "code",
   "execution_count": 153,
   "id": "8791d6ac-7175-4588-bcc7-16f18fce7928",
   "metadata": {},
   "outputs": [
    {
     "name": "stdout",
     "output_type": "stream",
     "text": [
      "ife is too\n",
      "5\n",
      "5\n"
     ]
    }
   ],
   "source": [
    "# str1 에서 첫번쨰 i가 있는 문자부터 10글자\n",
    "idx = str1.index(\"i\");\n",
    "result = str1[idx: idx+10];\n",
    "print(result);\n",
    "\n",
    "# i 에서 다음 글자부터 \n",
    "idx = str1.index(\"i\",2);\n",
    "print(idx);\n",
    "\n",
    "idx = str1.index(\"i\",str1.index(\"i\") + 1);\n",
    "print(idx);\n",
    "\n"
   ]
  },
  {
   "cell_type": "code",
   "execution_count": 165,
   "id": "aa469a74-19e2-44b1-90bc-4ca01e6eea3c",
   "metadata": {},
   "outputs": [
    {
     "name": "stdout",
     "output_type": "stream",
     "text": [
      "Life is too short, You need Python\n",
      "8\n",
      "16\n",
      "30\n",
      "30\n"
     ]
    }
   ],
   "source": [
    "str1 = \"Life is too short, You need Python\";\n",
    "print(str1);\n",
    "#3번째 t index 가져오기  \n",
    "\n",
    "idx = str1.index(\"t\");\n",
    "idx1 = str1.index(\"t\", idx+1);\n",
    "idx2 = str1.index(\"t\", idx1+1);\n",
    "\n",
    "print(idx);\n",
    "print(idx1);\n",
    "print(idx2);\n",
    "print(str1.index('t', str1.index(\"t\", str1.index(\"t\") + 1) + 1));\n",
    "\n",
    "\n",
    "\n"
   ]
  },
  {
   "cell_type": "code",
   "execution_count": 168,
   "id": "b02fcf06-0778-49e3-86a0-e512c34693e1",
   "metadata": {},
   "outputs": [
    {
     "name": "stdout",
     "output_type": "stream",
     "text": [
      "30\n",
      "tho\n"
     ]
    }
   ],
   "source": [
    "#마지막에 있는 \"t\"\n",
    "idx = str1.rindex('t');\n",
    "print(idx);\n",
    "\n",
    "\n",
    "# 마지막에 있는 't' 에서 3글자 \n",
    "\n",
    "print(str1[idx:idx+3]);\n"
   ]
  },
  {
   "cell_type": "code",
   "execution_count": 176,
   "id": "38d7f1d3-efb4-47e7-96c4-fdc1094e177c",
   "metadata": {},
   "outputs": [
    {
     "name": "stdout",
     "output_type": "stream",
     "text": [
      "Life is too short, You need Python\n",
      "1\n",
      "5\n",
      "-1\n",
      "없는 문자열 입니다\n"
     ]
    }
   ],
   "source": [
    "#find : index 처럼 문자열의 index 를 가져온다 \n",
    "print(str1);\n",
    "\n",
    "idx = str1.find(\"i\");\n",
    "print(idx);\n",
    "\n",
    "idx = str1.rfind(\"i\");\n",
    "print(idx);\n",
    "\n",
    "# print(str1.index('zoo')); # substring not found 없는 문자열 찾으면 에러\n",
    " \n",
    "print(str1.find('zoo'));   # 없는 문자열 찾으면 -1\n",
    "\n",
    "if str1.find('zoo') == -1:\n",
    "    print(\"없는 문자열 입니다\")\n",
    "else:\n",
    "    print(str1)\n",
    "\n"
   ]
  },
  {
   "cell_type": "code",
   "execution_count": 180,
   "id": "ff18bdc3-9758-4c44-9862-274d34c02e6f",
   "metadata": {},
   "outputs": [
    {
     "name": "stdout",
     "output_type": "stream",
     "text": [
      "Life is too short, You need Python\n",
      "LIFE IS TOO SHORT, YOU NEED PYTHON\n",
      "life is too short, you need python\n"
     ]
    }
   ],
   "source": [
    "print(str1);\n",
    "# 문자열 모두 대문자 \n",
    "print(str1.upper());\n",
    "# 문자열 모두 소문자 \n",
    "print(str1.lower());"
   ]
  },
  {
   "cell_type": "code",
   "execution_count": 189,
   "id": "356c5391-7694-4aeb-8c0d-f9a85e1d4ce9",
   "metadata": {},
   "outputs": [
    {
     "name": "stdout",
     "output_type": "stream",
     "text": [
      "        ingking        \n",
      "ingking\n",
      "ingking        \n",
      "        ingking\n",
      "ingking\n",
      "ingkingab\n",
      "abingking\n",
      "ing      king\n"
     ]
    }
   ],
   "source": [
    "str1 = \"        ingking        \";\n",
    "print(str1);\n",
    "print(str1.strip());       # 양쪽공백문자 제거 \n",
    "\n",
    "print(str1.lstrip());       # 공백문자 제거 \n",
    "print(str1.rstrip());       # 공백문자 제거 \n",
    "\n",
    "str1 = \"abingkingab\";\n",
    "print(str1.strip(\"ab\"));\n",
    "print(str1.lstrip(\"ab\"));      \n",
    "print(str1.rstrip(\"ab\"));       \n",
    "\n",
    "str1 = \"        ing      king        \";\n",
    "print(str1.strip());   # 가운데 공백 문자는 제거 안됨"
   ]
  },
  {
   "cell_type": "code",
   "execution_count": 193,
   "id": "576faf29-781b-4d74-b41b-40c9519fc609",
   "metadata": {},
   "outputs": [
    {
     "name": "stdout",
     "output_type": "stream",
     "text": [
      "pithon\n",
      "python\n",
      "Your leg is too short\n"
     ]
    }
   ],
   "source": [
    "### 문자열 대체하기 \n",
    "str1 = \"pithon\";\n",
    "str2 = str1.replace(\"i\", \"y\");   # 원데이터 변경 X\n",
    "print(str1);\n",
    "print(str2);\n",
    "\n",
    "str1 = \"Life is too short\"\n",
    "str2 = str1.replace(\"Life\", \"Your leg\");\n",
    "\n",
    "print(str2);"
   ]
  },
  {
   "cell_type": "code",
   "execution_count": 196,
   "id": "6a72dc8b-0764-4582-9c33-5db628015e48",
   "metadata": {},
   "outputs": [
    {
     "name": "stdout",
     "output_type": "stream",
     "text": [
      "Life is too short\n",
      "['Life', 'is', 'too', 'short']\n",
      "['Life', 'is', 'too', 'short']\n"
     ]
    }
   ],
   "source": [
    "# 쪼개기 : split : 결과는 리스트가 된다 \n",
    "\n",
    "print(str1);\n",
    "l = str1.split()\n",
    "print(l);\n",
    "\n",
    "str2 = \"Life:is:too:short\"\n",
    "l = str2.split(\":\");\n",
    "print(l);      # ['Life', 'is', 'too', 'short'] : 리스트  // 파이썬 -> 배열 X  \n"
   ]
  }
 ],
 "metadata": {
  "kernelspec": {
   "display_name": "Python 3 (ipykernel)",
   "language": "python",
   "name": "python3"
  },
  "language_info": {
   "codemirror_mode": {
    "name": "ipython",
    "version": 3
   },
   "file_extension": ".py",
   "mimetype": "text/x-python",
   "name": "python",
   "nbconvert_exporter": "python",
   "pygments_lexer": "ipython3",
   "version": "3.12.9"
  }
 },
 "nbformat": 4,
 "nbformat_minor": 5
}
