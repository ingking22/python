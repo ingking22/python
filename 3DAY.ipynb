{
 "cells": [
  {
   "cell_type": "code",
   "execution_count": 11,
   "id": "78f2c2e4-a92e-4194-a7a4-c6b7f860b66c",
   "metadata": {},
   "outputs": [
    {
     "name": "stdout",
     "output_type": "stream",
     "text": [
      "True\n",
      "합격\n",
      "합격\n",
      "합격\n",
      "합격\n",
      "영어 수학 국어 모두 범위안에 있습니다.\n",
      "합격\n",
      "프로그램 종료\n",
      "서울\n"
     ]
    }
   ],
   "source": [
    "# 영어, 수학, 국어의 점수가 40점 이상이고 평균이 60이상이면 합격(true)\n",
    "\n",
    "eng = 40;\n",
    "kor = 60;\n",
    "mat = 80;\n",
    "\n",
    "result = eng >= 40 and kor >= 40 and mat >= 40 and (eng + kor + mat) / 3 >= 60 \n",
    "\n",
    "print(result)\n",
    "\n",
    "# 조건문 : if    (파이썬 => switch 대신에 딕셔너리 사용)\n",
    "# 단일 if : if 문에 있는 조건식의 결과가 True 일때만 실행\n",
    "\n",
    "if result:\n",
    "    print(\"합격\")\n",
    "\n",
    "if eng >= 40 and kor >= 40 and mat >= 40 and (eng + kor + mat) / 3 >= 60:\n",
    "    print(\"합격\")\n",
    "\n",
    "\n",
    "# if ~ else \n",
    "if eng >= 40 and kor >= 40 and mat >= 40 and (eng + kor + mat) / 3 >= 60:\n",
    "    print(\"합격\");\n",
    "else:\n",
    "    print(\"불합격\");\n",
    "\n",
    "\n",
    "if result:     #True 일떄 실행\n",
    "    print(\"합격\");\n",
    "else:          # False 일떄\n",
    "    print(\"불합격\");\n",
    "\n",
    "\n",
    "if result :       # 들여쓰기(tab을 사용하는 방법과 space(공백문자)를 사용할 수 있는데 두가지 방식을 동시에 사용할수 없다) 하여 하나의 명령문이라는....\n",
    "    print(\"영어 수학 국어 모두 범위안에 있습니다.\")\n",
    "    print(\"합격\");    \n",
    "else :\n",
    "    print(\"영어 수학 국어 모두 범위안에 없습니다.\")\n",
    "    print(\"합격\");    \n",
    "\n",
    "# 위 조건문과 상관 없이 실행됨, 들여쓰기가 맞지 않으면 독립적인 실행문으로 봄\n",
    "print(\"프로그램 종료\");\n",
    "\n",
    "city = \"02\";\n",
    "\n",
    "'''\n",
    "\n",
    "switch (city){\n",
    "    case \"02\" : print(\"서울\"); break;\n",
    "    case \"031\" : print(\"경기도\"); break;\n",
    "}\n",
    "\n",
    "'''\n",
    "\n",
    "dic = {\"02\" : \"서울\", \"031\" : \"경기도\"}\n",
    "print(dic[city]);\n",
    "\n",
    "\n",
    "\n"
   ]
  },
  {
   "cell_type": "code",
   "execution_count": 32,
   "id": "1cdb75f0-d5b9-4dbd-9639-88542c170bfc",
   "metadata": {},
   "outputs": [
    {
     "name": "stdout",
     "output_type": "stream",
     "text": [
      "합격\n",
      "True\n",
      "False\n",
      "True\n",
      "4를 포함하고있습니다\n",
      "4를 포함하고있습니다\n",
      "True\n",
      "7이 포함되어 있지 않다\n",
      "True\n",
      "True\n",
      "False\n",
      "True\n",
      "True\n",
      "True\n",
      "True\n",
      "True\n",
      "True\n"
     ]
    }
   ],
   "source": [
    "if result :\n",
    "    print(\"합격\");\n",
    "#        print(\"실행될까요?\")   IndentationError: unexpected indent\n",
    "\n",
    "# in 연산자\n",
    "\n",
    "l = [1,2,3,4,5]\n",
    "result = 4 in l\n",
    "print(result);\n",
    "result = 7 in l\n",
    "print(result);\n",
    "\n",
    "result = 4 in [1,2,3,4,5]\n",
    "print(result);\n",
    "\n",
    "if result:\n",
    "    print(\"4를 포함하고있습니다\")\n",
    "else:\n",
    "    print(\"4를 포함하고 있지 않습니다.\")\n",
    "\n",
    "\n",
    "if 4 in [1,2,3,4,5]:\n",
    "    print(\"4를 포함하고있습니다\")\n",
    "else:\n",
    "    print(\"4를 포함하고 있지 않습니다.\")\n",
    "\n",
    "result = 7 not in [1,2,3,4,5]\n",
    "print(result);\n",
    "\n",
    "if result:\n",
    "    print(\"7이 포함되어 있지 않다\");\n",
    "else:\n",
    "    print(\"7이 포함되어 있습니다\")\n",
    "\n",
    "\n",
    "\n",
    "\n",
    "print(\"y\" in \"python\")\n",
    "print(\"th\" in \"python\")\n",
    "print(\"to\" in \"python\")\n",
    "\n",
    "print(\"윤병준\" not in \"python\");\n",
    "print(1 in (1,2,3,4,5))\n",
    "print(7 not in (1,2,3,4,5))\n",
    "print(\"a\" in {\"a\" : \"윤병준\", \"b\":\"윤주원\"});\n",
    "\n",
    "\n",
    "dic = {1:\"윤\", 2:\"병\"}\n",
    "\n",
    "print(1 in dic)\n",
    "\n",
    "print(\"c\" not in {\"a\" : \"윤병준\", \"b\":\"윤주원\"});"
   ]
  },
  {
   "cell_type": "code",
   "execution_count": 35,
   "id": "13eb2826-13db-46f7-8ea8-3a43a1e5dd06",
   "metadata": {},
   "outputs": [
    {
     "name": "stdout",
     "output_type": "stream",
     "text": [
      "지폐가 있습니다\n",
      "**********\n"
     ]
    }
   ],
   "source": [
    "pocket = ['paper', 'cellphone', 'money'] # 문자열 리스트\n",
    "\n",
    "if 'paper' in pocket:\n",
    "    print(\"지폐가 있습니다\");\n",
    "else:\n",
    "    print(\"지폐가 없습니다\");\n",
    "\n",
    "print(\"*\"*10);\n"
   ]
  },
  {
   "cell_type": "code",
   "execution_count": 37,
   "id": "9154c8d9-9b61-4ed2-a197-19440b45b6e0",
   "metadata": {},
   "outputs": [
    {
     "name": "stdout",
     "output_type": "stream",
     "text": [
      "C\n"
     ]
    }
   ],
   "source": [
    "\n",
    "# in, not in\n",
    "\n",
    "# 조건문이 하나\n",
    "# 단일 if, if ~ else\n",
    "\n",
    "# 조건문이 여러개인 경우\n",
    "# 학점이 90점이상이면 \"A\", 80점 이상이면 \"B\", 70점 이상이면 \"C\", 60점 이상이면 \"D\", 아니면 \"F\n",
    "\n",
    "score = 78\n",
    "\n",
    "if score >=90:   #90 이상\n",
    "    print(\"A\")\n",
    "elif score >=80: # 80 ~ 89 \n",
    "    print(\"B\")\n",
    "elif score >=70: # 70 ~ 79\n",
    "    print(\"C\")\n",
    "elif score >=60: # 60 ~ 69\n",
    "    print(\"D\")\n",
    "else: # ~ 59\n",
    "    print(\"F\")"
   ]
  },
  {
   "cell_type": "code",
   "execution_count": 38,
   "id": "0d4a4bc8-d5c0-400e-8489-184cb2ade8ea",
   "metadata": {},
   "outputs": [
    {
     "name": "stdout",
     "output_type": "stream",
     "text": [
      "C\n"
     ]
    }
   ],
   "source": [
    "\n",
    "# 다중(중첩) if문 ==> if ~ elif ~ else\n",
    "if score >= 90:\n",
    "    print(\"A\")\n",
    "else : # ~ 89\n",
    "    if score >= 80:\n",
    "        print(\"B\")\n",
    "    else : # ~79\n",
    "        if score >= 70:\n",
    "            print(\"C\")\n",
    "        else: # ~69\n",
    "            if score >=60:\n",
    "                print(\"D\")\n",
    "            else:\n",
    "                print(\"F\")"
   ]
  },
  {
   "cell_type": "code",
   "execution_count": 39,
   "id": "f82cb547-c4b1-4ba8-a0d6-bd0964e74fe3",
   "metadata": {},
   "outputs": [
    {
     "name": "stdout",
     "output_type": "stream",
     "text": [
      "C+\n"
     ]
    }
   ],
   "source": [
    "# 95이상이면 A+ 90이상이면 : A\n",
    "\n",
    "if score >=90:   #90 이상\n",
    "    if score >= 95:\n",
    "        print(\"A+\")\n",
    "    else:\n",
    "        print(\"A\")\n",
    "elif score >=80: # 80 ~ 89 \n",
    "    if score >= 85:\n",
    "        print(\"B+\")\n",
    "    else:    \n",
    "        print(\"B\")\n",
    "elif score >=70: # 70 ~ 79\n",
    "    if score >= 75:\n",
    "        print(\"C+\")\n",
    "    else:\n",
    "        print(\"C\")\n",
    "elif score >=60: # 60 ~ 69\n",
    "    if score >= 65:\n",
    "        print(\"D+\")\n",
    "    else:\n",
    "        print(\"D\")\n",
    "else: # ~ 59\n",
    "    print(\"F\")"
   ]
  },
  {
   "cell_type": "code",
   "execution_count": 42,
   "id": "6d49d3cc-73e7-40f1-9419-e5eac3282e1c",
   "metadata": {},
   "outputs": [
    {
     "name": "stdout",
     "output_type": "stream",
     "text": [
      "success\n",
      "success\n"
     ]
    }
   ],
   "source": [
    "# 파이썬에서 사용하는 방식\n",
    "'''\n",
    "score 가 60 이상이면 message 변수에 success를, 아니면 message 에 failure 를 저장한 후 출력\n",
    "'''\n",
    "\n",
    "score = 78\n",
    "message = \"\";\n",
    "\n",
    "if score >= 60:\n",
    "    message = \"success\"\n",
    "else:\n",
    "    message = \"failure\"\n",
    "print(message);\n",
    "\n",
    "\n",
    "message = \"success\" if score >= 60 else \"failure\"\n",
    "\n",
    "print(message);\n",
    "\n",
    "\n",
    "\n"
   ]
  },
  {
   "cell_type": "code",
   "execution_count": 46,
   "id": "c2625db1-3a71-4cf5-9f79-bb17b354826d",
   "metadata": {},
   "outputs": [
    {
     "name": "stdout",
     "output_type": "stream",
     "text": [
      "C\n",
      "C\n"
     ]
    }
   ],
   "source": [
    "\n",
    "if score >= 90:\n",
    "    message = \"A\";\n",
    "else : # ~ 89\n",
    "    if score >= 80:\n",
    "        message = \"B\"\n",
    "    else : # ~79\n",
    "        if score >= 70:\n",
    "            message = \"C\"\n",
    "        else: # ~69\n",
    "            if score >=60:\n",
    "                message = \"D\"\n",
    "            else:\n",
    "                message = \"F\"\n",
    "\n",
    "print(message);\n",
    "\n",
    "\n",
    "message = \"A\" if score >= 90 else(\n",
    "          \"B\" if score >= 80 else(\n",
    "          \"C\" if score >= 70 else(\n",
    "          \"D\" if score >= 60 else \"F\"    \n",
    "          )))    \n",
    "print(message)\n",
    "\n"
   ]
  },
  {
   "cell_type": "code",
   "execution_count": 50,
   "id": "1d6acf8e-787f-4262-b2a5-1ad7ad87ad67",
   "metadata": {},
   "outputs": [
    {
     "name": "stdout",
     "output_type": "stream",
     "text": [
      "-10\n",
      "************************************************************\n",
      "-10\n"
     ]
    }
   ],
   "source": [
    "# if 문을 이용한 사칙연산\n",
    "a= 10; b=20; opt = \"sub\"\n",
    "\n",
    "if opt == \"add\":\n",
    "    message = a + b\n",
    "elif opt == \"sub\":\n",
    "    message = a - b\n",
    "elif opt == \"mul\":\n",
    "    message = a * b\n",
    "else:\n",
    "    message = a / b\n",
    "print(message);\n",
    "\n",
    "print(\"***\" * 20);\n",
    "\n",
    "message = a + b if opt == \"add\" else(\n",
    "          a - b if opt == \"sub\" else(\n",
    "          a * b if opt == \"mul\" else \n",
    "          a / b    \n",
    "          ))\n",
    "\n",
    "print(message);\n",
    "\n",
    "print(\"***\" * 20);\n",
    "    "
   ]
  },
  {
   "cell_type": "code",
   "execution_count": null,
   "id": "d231a95d-c3b4-43ff-8ffa-3fd537a06218",
   "metadata": {},
   "outputs": [],
   "source": [
    "# 조건문 : if , if ~ else , if ~ elif ~ else, 중첩 if, \n",
    "# 조건식 연산자 : in , not in\n"
   ]
  },
  {
   "cell_type": "code",
   "execution_count": 57,
   "id": "9f686f3b-7fcb-40e8-882a-8827f817f2d7",
   "metadata": {},
   "outputs": [
    {
     "name": "stdout",
     "output_type": "stream",
     "text": [
      "나무를 1번 찍었습니다.\n",
      "나무를 2번 찍었습니다.\n",
      "나무를 3번 찍었습니다.\n",
      "나무를 4번 찍었습니다.\n",
      "나무를 5번 찍었습니다.\n",
      "나무를 6번 찍었습니다.\n",
      "나무를 7번 찍었습니다.\n",
      "나무를 8번 찍었습니다.\n",
      "나무를 9번 찍었습니다.\n",
      "나무를 10번 찍었습니다.\n",
      "나무가 넘어갔습니다.\n",
      "********************\n",
      "나무를 1번 찍었습니다.\n",
      "나무를 2번 찍었습니다.\n",
      "나무를 3번 찍었습니다.\n",
      "나무를 4번 찍었습니다.\n",
      "나무를 5번 찍었습니다.\n",
      "나무를 6번 찍었습니다.\n",
      "나무를 7번 찍었습니다.\n",
      "나무를 8번 찍었습니다.\n",
      "나무를 9번 찍었습니다.\n",
      "나무를 10번 찍었습니다.\n",
      "********************\n"
     ]
    }
   ],
   "source": [
    "# 반복문 : 반복적으로 사용하기 위한 명령문\n",
    "print(\"나무를 1번 찍었습니다.\");\n",
    "print(\"나무를 2번 찍었습니다.\");\n",
    "print(\"나무를 3번 찍었습니다.\");\n",
    "print(\"나무를 4번 찍었습니다.\");\n",
    "print(\"나무를 5번 찍었습니다.\");\n",
    "print(\"나무를 6번 찍었습니다.\");\n",
    "print(\"나무를 7번 찍었습니다.\");\n",
    "print(\"나무를 8번 찍었습니다.\");\n",
    "print(\"나무를 9번 찍었습니다.\");\n",
    "print(\"나무를 10번 찍었습니다.\");\n",
    "print(\"나무가 넘어갔습니다.\");\n",
    "\n",
    "print(\"*\" * 20);\n",
    "\n",
    "i = 1;\n",
    "while i <= 10:\n",
    "    #print(f\"나무를 {i}번 찍었습니다\");\n",
    "    #print(\"나무를 %d번 찍었습니다.\" %i);\n",
    "    print(\"나무를 {0}번 찍었습니다.\" .format(i));\n",
    "    i = i + 1;     # i += 1;\n",
    "print(\"*\" * 20);\n"
   ]
  },
  {
   "cell_type": "code",
   "execution_count": 62,
   "id": "4a626b0c-7277-47e6-9d1b-23bf659ace03",
   "metadata": {},
   "outputs": [
    {
     "name": "stdout",
     "output_type": "stream",
     "text": [
      "8 * 1 = 8\n",
      "8 * 2 = 16\n",
      "8 * 3 = 24\n",
      "8 * 4 = 32\n",
      "8 * 5 = 40\n",
      "8 * 6 = 48\n",
      "8 * 7 = 56\n",
      "8 * 8 = 64\n",
      "8 * 9 = 72\n"
     ]
    }
   ],
   "source": [
    "# 구구단\n",
    "# 8 단 \n",
    "'''\n",
    " 8 * 1 = (8 * 1)\n",
    " 8 * 2 = (8 * 2)\n",
    " 8 * 3 = (8 * 3)\n",
    " 8 * 4 = (8 * 4)\n",
    " 8 * 5 = (8 * 5)\n",
    " 8 * 6 = (8 * 6)\n",
    " 8 * 7 = (8 * 7)\n",
    " 8 * 8 = (8 * 8)\n",
    " 8 * 9 = (8 * 9)\n",
    "'''\n",
    "i = 1\n",
    "while i <= 9:\n",
    "    #print(f\"8 * {i} = {8 * i}\")\n",
    "    #print(\"8 * %d = %d\" %(i, 8*i))\n",
    "    print(\"8 * {0} = {1}\" .format(i, 8*i))\n",
    "    i += 1;\n",
    "    "
   ]
  },
  {
   "cell_type": "code",
   "execution_count": 64,
   "id": "bde5313f-e21f-428e-b267-1502f05c8c29",
   "metadata": {},
   "outputs": [
    {
     "name": "stdin",
     "output_type": "stream",
     "text": [
      "곱의 첫번째 숫자를 입력하세요 1\n",
      "곱의 두번째 숫자를 입력하세요 2\n"
     ]
    },
    {
     "name": "stdout",
     "output_type": "stream",
     "text": [
      "8 * 1 = 8\n",
      "8 * 2 = 16\n"
     ]
    }
   ],
   "source": [
    "start = int(input(\"곱의 첫번째 숫자를 입력하세요\"))\n",
    "end = int(input(\"곱의 두번째 숫자를 입력하세요\"))\n",
    "while start <= end:\n",
    "    #print(f\"8 * {i} = {8 * i}\")\n",
    "    #print(\"8 * %d = %d\" %(i, 8*i))\n",
    "    print(\"8 * {0} = {1}\" .format(start, 8 * start))\n",
    "    start += 1;"
   ]
  },
  {
   "cell_type": "code",
   "execution_count": 65,
   "id": "b8db040e-c0a1-48f9-bc7e-63ee6ff35b80",
   "metadata": {},
   "outputs": [
    {
     "name": "stdin",
     "output_type": "stream",
     "text": [
      "단을 입력하세요 :  3\n",
      "곱의 첫번째 숫자를 입력하세요 :  1\n",
      "곱의 두번째 숫자를 입력하세요 :  9\n"
     ]
    },
    {
     "name": "stdout",
     "output_type": "stream",
     "text": [
      "3 * 1 = 3\n",
      "3 * 2 = 6\n",
      "3 * 3 = 9\n",
      "3 * 4 = 12\n",
      "3 * 5 = 15\n",
      "3 * 6 = 18\n",
      "3 * 7 = 21\n",
      "3 * 8 = 24\n",
      "3 * 9 = 27\n"
     ]
    }
   ],
   "source": [
    "dan = int(input(\"단을 입력하세요 : \"))\n",
    "start = int(input(\"곱의 첫번째 숫자를 입력하세요 : \"))\n",
    "end = int(input(\"곱의 두번째 숫자를 입력하세요 : \"))\n",
    "while start <= end:\n",
    "    #print(f\"8 * {i} = {8 * i}\")\n",
    "    #print(\"8 * %d = %d\" %(i, 8*i))\n",
    "    #print(\"{0} * {1} = {2}\" .format(dan,start, dan * start))\n",
    "    print(f\"{dan} * {start} = {dan * start}\")\n",
    "    start += 1;"
   ]
  },
  {
   "cell_type": "code",
   "execution_count": 67,
   "id": "7bdccab4-87f3-4375-9f4e-4fd74d4e087b",
   "metadata": {},
   "outputs": [
    {
     "name": "stdout",
     "output_type": "stream",
     "text": [
      "[1, 2, 3, 4, 5, 6, 7, 8, 9, 10, 11, 12, 13, 14, 15, 16, 17, 18, 19, 20, 21, 22, 23, 24, 25, 26, 27, 28, 29, 30, 31, 32, 33, 34, 35, 36, 37, 38, 39, 40, 41, 42, 43, 44, 45]\n",
      "7 5 11 25 1 26 "
     ]
    }
   ],
   "source": [
    "#\n",
    "import random\n",
    "\n",
    "lotto =[]\n",
    "i = 1\n",
    "\n",
    "while i <= 45:\n",
    "    lotto.append(i)\n",
    "    i += 1\n",
    "    \n",
    "print(lotto);\n",
    "\n",
    "size = len(lotto)\n",
    "y = 1\n",
    "while y <= 6:\n",
    "    size -= 1\n",
    "    idx = random.randint(0,size)\n",
    "    result = lotto.pop(idx)\n",
    "    print(result , end = \" \")\n",
    "    y += 1\n",
    "\n",
    "\n",
    "\n",
    "# 비복원 : 로또 \n",
    "# 복원 : 주사위"
   ]
  },
  {
   "cell_type": "code",
   "execution_count": 69,
   "id": "219476a4-21e8-4703-a0ed-e903a45c8b36",
   "metadata": {},
   "outputs": [
    {
     "name": "stdin",
     "output_type": "stream",
     "text": [
      "몇장을 구매 하시겠습니까? :  10\n"
     ]
    },
    {
     "name": "stdout",
     "output_type": "stream",
     "text": [
      "40 14 25 30 24 32 \n",
      "36 10 2 4 12 30 \n",
      "11 31 9 5 33 19 \n",
      "19 2 24 10 1 37 \n",
      "13 3 8 38 6 1 \n",
      "4 5 16 3 40 15 \n",
      "28 6 31 32 21 3 \n",
      "5 37 24 4 3 22 \n",
      "33 30 37 4 19 11 \n",
      "37 4 40 16 15 10 \n"
     ]
    }
   ],
   "source": [
    "import random\n",
    "\n",
    "lotto = []\n",
    "cnt = 1 \n",
    "cntEnd = int(input(\"몇장을 구매 하시겠습니까? : \"))\n",
    "\n",
    "while cnt <= cntEnd:\n",
    "    i = 1 \n",
    "    while i <= 40:\n",
    "        lotto.append(i)\n",
    "        i += 1\n",
    "    size = len(lotto)\n",
    "    \n",
    "    y = 1\n",
    "    while y <= 6:\n",
    "        size -= 1\n",
    "        idx = random.randint(0,size)\n",
    "        result = lotto.pop(idx)\n",
    "        print(result, end=\" \")\n",
    "        y += 1\n",
    "    lotto.clear()\n",
    "    print()\n",
    "    cnt +=1\n",
    "\n",
    "    "
   ]
  },
  {
   "cell_type": "code",
   "execution_count": 70,
   "id": "3ff2eeb6-d451-4bac-bcfc-14ca3219ffe8",
   "metadata": {},
   "outputs": [
    {
     "name": "stdout",
     "output_type": "stream",
     "text": [
      "6 * 1 = 6\n",
      "6 * 2 = 12\n",
      "6 * 3 = 18\n",
      "6 * 4 = 24\n",
      "6 * 5 = 30\n",
      "6 * 6 = 36\n",
      "6 * 7 = 42\n",
      "6 * 8 = 48\n",
      "6 * 9 = 54\n",
      "7 * 1 = 7\n",
      "7 * 2 = 14\n",
      "7 * 3 = 21\n",
      "7 * 4 = 28\n",
      "7 * 5 = 35\n",
      "7 * 6 = 42\n",
      "7 * 7 = 49\n",
      "7 * 8 = 56\n",
      "7 * 9 = 63\n",
      "8 * 1 = 8\n",
      "8 * 2 = 16\n",
      "8 * 3 = 24\n",
      "8 * 4 = 32\n",
      "8 * 5 = 40\n",
      "8 * 6 = 48\n",
      "8 * 7 = 56\n",
      "8 * 8 = 64\n",
      "8 * 9 = 72\n"
     ]
    }
   ],
   "source": [
    "# 6 단 \n",
    "\n",
    "i = 1;\n",
    "while i <= 9:\n",
    "    print(f\"6 * {i} = {6 * i}\")\n",
    "    i+= 1\n",
    "\n",
    "# 7 단\n",
    "i = 1;\n",
    "while i <= 9:\n",
    "    print(f\"7 * {i} = {7 * i}\")\n",
    "    i+= 1\n",
    "# 8 단\n",
    "i = 1;\n",
    "while i <= 9:\n",
    "    print(f\"8 * {i} = {8 * i}\")\n",
    "    i+= 1\n",
    "\n",
    "\n",
    "\n",
    "\n",
    "    "
   ]
  },
  {
   "cell_type": "code",
   "execution_count": 74,
   "id": "bd2de0ef-f58b-499b-8a16-726b32f486ba",
   "metadata": {},
   "outputs": [
    {
     "name": "stdout",
     "output_type": "stream",
     "text": [
      "2 * 1 = 2\n",
      "2 * 2 = 4\n",
      "2 * 3 = 6\n",
      "2 * 4 = 8\n",
      "2 * 5 = 10\n",
      "2 * 6 = 12\n",
      "2 * 7 = 14\n",
      "2 * 8 = 16\n",
      "2 * 9 = 18\n",
      "3 * 1 = 3\n",
      "3 * 2 = 6\n",
      "3 * 3 = 9\n",
      "3 * 4 = 12\n",
      "3 * 5 = 15\n",
      "3 * 6 = 18\n",
      "3 * 7 = 21\n",
      "3 * 8 = 24\n",
      "3 * 9 = 27\n",
      "4 * 1 = 4\n",
      "4 * 2 = 8\n",
      "4 * 3 = 12\n",
      "4 * 4 = 16\n",
      "4 * 5 = 20\n",
      "4 * 6 = 24\n",
      "4 * 7 = 28\n",
      "4 * 8 = 32\n",
      "4 * 9 = 36\n",
      "5 * 1 = 5\n",
      "5 * 2 = 10\n",
      "5 * 3 = 15\n",
      "5 * 4 = 20\n",
      "5 * 5 = 25\n",
      "5 * 6 = 30\n",
      "5 * 7 = 35\n",
      "5 * 8 = 40\n",
      "5 * 9 = 45\n",
      "6 * 1 = 6\n",
      "6 * 2 = 12\n",
      "6 * 3 = 18\n",
      "6 * 4 = 24\n",
      "6 * 5 = 30\n",
      "6 * 6 = 36\n",
      "6 * 7 = 42\n",
      "6 * 8 = 48\n",
      "6 * 9 = 54\n",
      "7 * 1 = 7\n",
      "7 * 2 = 14\n",
      "7 * 3 = 21\n",
      "7 * 4 = 28\n",
      "7 * 5 = 35\n",
      "7 * 6 = 42\n",
      "7 * 7 = 49\n",
      "7 * 8 = 56\n",
      "7 * 9 = 63\n",
      "8 * 1 = 8\n",
      "8 * 2 = 16\n",
      "8 * 3 = 24\n",
      "8 * 4 = 32\n",
      "8 * 5 = 40\n",
      "8 * 6 = 48\n",
      "8 * 7 = 56\n",
      "8 * 8 = 64\n",
      "8 * 9 = 72\n",
      "9 * 1 = 9\n",
      "9 * 2 = 18\n",
      "9 * 3 = 27\n",
      "9 * 4 = 36\n",
      "9 * 5 = 45\n",
      "9 * 6 = 54\n",
      "9 * 7 = 63\n",
      "9 * 8 = 72\n",
      "9 * 9 = 81\n"
     ]
    }
   ],
   "source": [
    "\n",
    "# 이중 반복문\n",
    "startDan = 2\n",
    "while startDan <= 9:\n",
    "    i = 1;\n",
    "    while i <= 9:\n",
    "        print(f\"{startDan} * {i} = {startDan * i}\")\n",
    "        i += 1\n",
    "    startDan += 1\n",
    "\n"
   ]
  },
  {
   "cell_type": "code",
   "execution_count": 77,
   "id": "813a40a7-cd00-4791-865e-2e0994f8fba7",
   "metadata": {},
   "outputs": [
    {
     "name": "stdin",
     "output_type": "stream",
     "text": [
      "시작 단을 입력하세요!!! :  3\n",
      "끝나는 단을 입력해주세요!!! :  4\n",
      "시작 곱을 입력하세요!!! :  2\n",
      "끝나는 곱을 입력해주세요!!! :  9\n"
     ]
    },
    {
     "name": "stdout",
     "output_type": "stream",
     "text": [
      "3 * 2 = 6\n",
      "3 * 3 = 9\n",
      "3 * 4 = 12\n",
      "3 * 5 = 15\n",
      "3 * 6 = 18\n",
      "3 * 7 = 21\n",
      "3 * 8 = 24\n",
      "3 * 9 = 27\n",
      "4 * 2 = 8\n",
      "4 * 3 = 12\n",
      "4 * 4 = 16\n",
      "4 * 5 = 20\n",
      "4 * 6 = 24\n",
      "4 * 7 = 28\n",
      "4 * 8 = 32\n",
      "4 * 9 = 36\n"
     ]
    }
   ],
   "source": [
    "startDan = int(input(\"시작 단을 입력하세요!!! : \"))\n",
    "endDan = int(input(\"끝나는 단을 입력해주세요!!! : \"))\n",
    "startGop = int(input(\"시작 곱을 입력하세요!!! : \"));\n",
    "endGop = int(input(\"끝나는 곱을 입력해주세요!!! : \"))\n",
    "while startDan <= endDan:\n",
    "    gop = startGop\n",
    "    while gop <= endGop:\n",
    "        print(f\"{startDan} * {gop} = {startDan * gop}\")\n",
    "        gop += 1\n",
    "    startDan += 1\n"
   ]
  },
  {
   "cell_type": "code",
   "execution_count": 82,
   "id": "28b5b3d0-861e-402d-a572-8fc3876c2b82",
   "metadata": {},
   "outputs": [
    {
     "name": "stdin",
     "output_type": "stream",
     "text": [
      "시작단을 입력해주세요. :  2\n",
      "끝나는 단을 입력해주세요. :  3\n",
      "시작 곱을 입력해주세요. :  4\n",
      "끝나는 곱을 입력해 주세요. :  5\n"
     ]
    },
    {
     "name": "stdout",
     "output_type": "stream",
     "text": [
      "2 * 4 = 8\n",
      "2 * 5 = 10\n",
      "3 * 4 = 12\n",
      "3 * 5 = 15\n"
     ]
    }
   ],
   "source": [
    "startDan = int(input(\"시작단을 입력해주세요. : \"))\n",
    "endDan = int(input(\"끝나는 단을 입력해주세요. : \"))\n",
    "startGop = int(input(\"시작 곱을 입력해주세요. : \"))\n",
    "endGop = int(input(\"끝나는 곱을 입력해 주세요. : \"))\n",
    "while startDan <= endDan:\n",
    "    gop = startGop\n",
    "    while gop <= endGop:\n",
    "        print(f\"{startDan} * {gop} = {startDan * gop}\")    \n",
    "        gop += 1\n",
    "    startDan += 1"
   ]
  },
  {
   "cell_type": "code",
   "execution_count": 94,
   "id": "4204b4c6-5d36-4bec-a05c-2b620b9b2e8f",
   "metadata": {},
   "outputs": [
    {
     "name": "stdout",
     "output_type": "stream",
     "text": [
      "21\n",
      "21\n",
      "********************\n",
      "21\n",
      "********************\n",
      "21\n",
      "********************\n",
      "21\n",
      "********************\n",
      "21\n",
      "********************\n",
      "21\n",
      "********************\n"
     ]
    }
   ],
   "source": [
    "# for 문\n",
    "l = [1,2,3,4,5,6]\n",
    "print(sum(l))\n",
    "\n",
    "idx = 0\n",
    "sum1 = 0;\n",
    "while idx < len(l):\n",
    "    sum1 = sum1 + l[idx]\n",
    "    idx += 1\n",
    "print(sum1)\n",
    "print(\"*\" * 20)\n",
    "sum1 = 0\n",
    "for num in [1,2,3,4,5,6]:   # for each\n",
    "    sum1 = sum1 + num\n",
    "print(sum1)\n",
    "print(\"*\" * 20)\n",
    "sum1 = 0\n",
    "\n",
    "for num in l:\n",
    "    sum1 = sum1 + num\n",
    "print(sum1)\n",
    "print(\"*\" * 20)\n",
    "\n",
    "sum1 = 0\n",
    "for num in l:\n",
    "    sum1 += num\n",
    "print(sum1)\n",
    "print(\"*\" * 20)\n",
    "\n",
    "sum1 = 0\n",
    "for idx in range(0,6):\n",
    "    sum1 += l[idx]\n",
    "print(sum1)\n",
    "print(\"*\" * 20)\n",
    "\n",
    "sum1 = 0\n",
    "for idx in range(0,len(l)):\n",
    "    sum1 += l[idx]\n",
    "print(sum1)\n",
    "print(\"*\" * 20)\n"
   ]
  },
  {
   "cell_type": "code",
   "execution_count": 98,
   "id": "57a92cfc-e4ab-423f-b77a-66b754efbf33",
   "metadata": {},
   "outputs": [
    {
     "name": "stdin",
     "output_type": "stream",
     "text": [
      "숫자를 입력하세요 :  6\n"
     ]
    },
    {
     "name": "stdout",
     "output_type": "stream",
     "text": [
      "21\n",
      "********************\n",
      "21\n",
      "********************\n",
      "[3, 4, 5]\n"
     ]
    }
   ],
   "source": [
    " # 1 ~ 100\n",
    "sum1 = 0\n",
    "i = 1\n",
    "end = int(input(\"숫자를 입력하세요 : \"))\n",
    "while i <= end:\n",
    "    sum1 += i\n",
    "    i += 1\n",
    "print(sum1)\n",
    "sum1 = 0\n",
    "print(\"*\" * 20)\n",
    "\n",
    "#for i in range(1, 100 + 1):\n",
    "for i in range(1, end + 1):\n",
    "    sum1 += i\n",
    "print(sum1)\n",
    "sum1 = 0\n",
    "print(\"*\" * 20)\n",
    "\n",
    "l = [1,2,3,4,5,6,7]\n",
    "print(l[2:5])\n",
    "\n"
   ]
  },
  {
   "cell_type": "code",
   "execution_count": 105,
   "id": "fa9b7f4c-1696-4526-b53e-8ccc5afe2ef4",
   "metadata": {},
   "outputs": [
    {
     "name": "stdout",
     "output_type": "stream",
     "text": [
      "2550\n",
      "********************\n",
      "2550\n",
      "********************\n",
      "2550\n",
      "********************\n",
      "2550\n",
      "********************\n"
     ]
    }
   ],
   "source": [
    "# 짝수만 구하시오 \n",
    "# 1~ 100\n",
    "\n",
    "sum1 = 0\n",
    "i = 1\n",
    "while i < 101:\n",
    "    if i % 2 == 0:\n",
    "        sum1 += i\n",
    "    i +=1\n",
    "print(sum1)\n",
    "sum1 = 0\n",
    "print(\"*\" * 20)\n",
    "\n",
    "for i in range(1, 101):\n",
    "    if i % 2 ==0:\n",
    "        sum1 += i\n",
    "print(sum1)\n",
    "sum1 = 0\n",
    "print(\"*\" * 20)\n",
    "i = 0\n",
    "while i < 100:\n",
    "    i += 1\n",
    "    if i % 2 != 0:\n",
    "        continue\n",
    "    sum1 += i\n",
    "    \n",
    "print(sum1)\n",
    "sum1 = 0\n",
    "print(\"*\" * 20)\n",
    "\n",
    "for i in range(1, 101):\n",
    "    if i % 2 !=0:\n",
    "        continue\n",
    "    sum1 += i\n",
    "print(sum1)\n",
    "sum1 = 0\n",
    "print(\"*\" * 20)\n",
    "\n",
    "\n"
   ]
  },
  {
   "cell_type": "code",
   "execution_count": 106,
   "id": "e457889e-1a51-4918-90cf-6b8ef4079ace",
   "metadata": {},
   "outputs": [
    {
     "name": "stdout",
     "output_type": "stream",
     "text": [
      "5050\n"
     ]
    }
   ],
   "source": [
    "# break\n",
    "i = 1\n",
    "sum1 = 0\n",
    "while True:\n",
    "    if i  == 101:\n",
    "        break\n",
    "    sum1 += i\n",
    "    i += 1\n",
    "print(sum1)\n",
    "sum1 = 0\n",
    "\n",
    "# break 는 주로 while 문 에서 많이 사용\n",
    "\n",
    "'''\n",
    "for i in range(1, 10000):\n",
    "    if i == 101:\n",
    "        break\n",
    "    sum1 += i    \n",
    "'''\n",
    "\n",
    "\n"
   ]
  },
  {
   "cell_type": "code",
   "execution_count": 111,
   "id": "5aca8483-85a2-4dfb-a58c-e621cc9b4f57",
   "metadata": {},
   "outputs": [
    {
     "name": "stdout",
     "output_type": "stream",
     "text": [
      "5 * 1 = 5\n",
      "5 * 2 = 10\n",
      "5 * 3 = 15\n",
      "5 * 4 = 20\n",
      "5 * 5 = 25\n",
      "5 * 6 = 30\n",
      "5 * 7 = 35\n",
      "5 * 8 = 40\n",
      "5 * 9 = 45\n",
      "********************\n",
      "2 * 1 = 2\n",
      "2 * 2 = 4\n",
      "2 * 3 = 6\n",
      "2 * 4 = 8\n",
      "2 * 5 = 10\n",
      "2 * 6 = 12\n",
      "2 * 7 = 14\n",
      "2 * 8 = 16\n",
      "2 * 9 = 18\n",
      "3 * 1 = 3\n",
      "3 * 2 = 6\n",
      "3 * 3 = 9\n",
      "3 * 4 = 12\n",
      "3 * 5 = 15\n",
      "3 * 6 = 18\n",
      "3 * 7 = 21\n",
      "3 * 8 = 24\n",
      "3 * 9 = 27\n",
      "4 * 1 = 4\n",
      "4 * 2 = 8\n",
      "4 * 3 = 12\n",
      "4 * 4 = 16\n",
      "4 * 5 = 20\n",
      "4 * 6 = 24\n",
      "4 * 7 = 28\n",
      "4 * 8 = 32\n",
      "4 * 9 = 36\n",
      "5 * 1 = 5\n",
      "5 * 2 = 10\n",
      "5 * 3 = 15\n",
      "5 * 4 = 20\n",
      "5 * 5 = 25\n",
      "5 * 6 = 30\n",
      "5 * 7 = 35\n",
      "5 * 8 = 40\n",
      "5 * 9 = 45\n",
      "6 * 1 = 6\n",
      "6 * 2 = 12\n",
      "6 * 3 = 18\n",
      "6 * 4 = 24\n",
      "6 * 5 = 30\n",
      "6 * 6 = 36\n",
      "6 * 7 = 42\n",
      "6 * 8 = 48\n",
      "6 * 9 = 54\n",
      "7 * 1 = 7\n",
      "7 * 2 = 14\n",
      "7 * 3 = 21\n",
      "7 * 4 = 28\n",
      "7 * 5 = 35\n",
      "7 * 6 = 42\n",
      "7 * 7 = 49\n",
      "7 * 8 = 56\n",
      "7 * 9 = 63\n",
      "8 * 1 = 8\n",
      "8 * 2 = 16\n",
      "8 * 3 = 24\n",
      "8 * 4 = 32\n",
      "8 * 5 = 40\n",
      "8 * 6 = 48\n",
      "8 * 7 = 56\n",
      "8 * 8 = 64\n",
      "8 * 9 = 72\n",
      "9 * 1 = 9\n",
      "9 * 2 = 18\n",
      "9 * 3 = 27\n",
      "9 * 4 = 36\n",
      "9 * 5 = 45\n",
      "9 * 6 = 54\n",
      "9 * 7 = 63\n",
      "9 * 8 = 72\n",
      "9 * 9 = 81\n"
     ]
    }
   ],
   "source": [
    "# for문을 이용해서 5단 출력\n",
    "\n",
    "for gop in range(1, 10):\n",
    "    print(f\"5 * {gop} = {5 * gop}\")\n",
    "\n",
    "print(\"*\" * 20)\n",
    "\n",
    "# 2단 부터 for 문을 이용해서 9단 까지\n",
    "for dan in range(2,10):\n",
    "    for gop in range(1, 10):\n",
    "        print(f\"{dan} * {gop} = {dan * gop}\")\n",
    "    \n"
   ]
  },
  {
   "cell_type": "code",
   "execution_count": 112,
   "id": "5df7d63e-9d44-44b6-b8f9-f05a5fe1b086",
   "metadata": {},
   "outputs": [
    {
     "name": "stdout",
     "output_type": "stream",
     "text": [
      "2 * 1 = 2\n",
      "2 * 2 = 4\n",
      "2 * 3 = 6\n",
      "2 * 4 = 8\n",
      "2 * 5 = 10\n",
      "2 * 6 = 12\n",
      "2 * 7 = 14\n",
      "2 * 8 = 16\n",
      "2 * 9 = 18\n",
      "3 * 1 = 3\n",
      "3 * 2 = 6\n",
      "3 * 3 = 9\n",
      "3 * 4 = 12\n",
      "3 * 5 = 15\n",
      "3 * 6 = 18\n",
      "3 * 7 = 21\n",
      "3 * 8 = 24\n",
      "3 * 9 = 27\n",
      "4 * 1 = 4\n",
      "4 * 2 = 8\n",
      "4 * 3 = 12\n",
      "4 * 4 = 16\n",
      "4 * 5 = 20\n",
      "4 * 6 = 24\n",
      "4 * 7 = 28\n",
      "4 * 8 = 32\n",
      "4 * 9 = 36\n",
      "5 * 1 = 5\n",
      "5 * 2 = 10\n",
      "5 * 3 = 15\n",
      "5 * 4 = 20\n",
      "5 * 5 = 25\n",
      "5 * 6 = 30\n",
      "5 * 7 = 35\n",
      "5 * 8 = 40\n",
      "5 * 9 = 45\n",
      "6 * 1 = 6\n",
      "6 * 2 = 12\n",
      "6 * 3 = 18\n",
      "6 * 4 = 24\n",
      "6 * 5 = 30\n",
      "6 * 6 = 36\n",
      "6 * 7 = 42\n",
      "6 * 8 = 48\n",
      "6 * 9 = 54\n",
      "7 * 1 = 7\n",
      "7 * 2 = 14\n",
      "7 * 3 = 21\n",
      "7 * 4 = 28\n",
      "7 * 5 = 35\n",
      "7 * 6 = 42\n",
      "7 * 7 = 49\n",
      "7 * 8 = 56\n",
      "7 * 9 = 63\n",
      "8 * 1 = 8\n",
      "8 * 2 = 16\n",
      "8 * 3 = 24\n",
      "8 * 4 = 32\n",
      "8 * 5 = 40\n",
      "8 * 6 = 48\n",
      "8 * 7 = 56\n",
      "8 * 8 = 64\n",
      "8 * 9 = 72\n",
      "9 * 1 = 9\n",
      "9 * 2 = 18\n",
      "9 * 3 = 27\n",
      "9 * 4 = 36\n",
      "9 * 5 = 45\n",
      "9 * 6 = 54\n",
      "9 * 7 = 63\n",
      "9 * 8 = 72\n",
      "9 * 9 = 81\n"
     ]
    }
   ],
   "source": [
    "startDan = 2\n",
    "endDan = 9\n",
    "startGop = 1\n",
    "endGop = 9\n",
    "\n",
    "for dan in range(startDan,endDan+1):\n",
    "    for gop in range(startGop, endGop+1):\n",
    "        print(f\"{dan} * {gop} = {dan * gop}\")"
   ]
  },
  {
   "cell_type": "code",
   "execution_count": 113,
   "id": "d1f5995f-e3a5-4da9-941d-a5708d707c8d",
   "metadata": {},
   "outputs": [
    {
     "name": "stdin",
     "output_type": "stream",
     "text": [
      "시작 단 :  2\n",
      "끝 단 :  4\n",
      "시작 곱 :  2\n",
      "끝 곱 :  9\n"
     ]
    },
    {
     "name": "stdout",
     "output_type": "stream",
     "text": [
      "2 * 2 = 4\n",
      "2 * 3 = 6\n",
      "2 * 4 = 8\n",
      "2 * 5 = 10\n",
      "2 * 6 = 12\n",
      "2 * 7 = 14\n",
      "2 * 8 = 16\n",
      "2 * 9 = 18\n",
      "3 * 2 = 6\n",
      "3 * 3 = 9\n",
      "3 * 4 = 12\n",
      "3 * 5 = 15\n",
      "3 * 6 = 18\n",
      "3 * 7 = 21\n",
      "3 * 8 = 24\n",
      "3 * 9 = 27\n",
      "4 * 2 = 8\n",
      "4 * 3 = 12\n",
      "4 * 4 = 16\n",
      "4 * 5 = 20\n",
      "4 * 6 = 24\n",
      "4 * 7 = 28\n",
      "4 * 8 = 32\n",
      "4 * 9 = 36\n"
     ]
    }
   ],
   "source": [
    "startDan = int(input(\"시작 단 : \"))\n",
    "endDan = int(input(\"끝 단 : \"))\n",
    "startGop = int(input(\"시작 곱 : \"))\n",
    "endGop = int(input(\"끝 곱 : \"))\n",
    "\n",
    "for dan in range(startDan,endDan+1):\n",
    "    for gop in range(startGop, endGop+1):\n",
    "        print(f\"{dan} * {gop} = {dan * gop}\")"
   ]
  },
  {
   "cell_type": "code",
   "execution_count": 115,
   "id": "3048bee9-d96f-4e28-b23e-2453ea151a38",
   "metadata": {},
   "outputs": [
    {
     "name": "stdout",
     "output_type": "stream",
     "text": [
      "6 30 28 3 27 2 "
     ]
    }
   ],
   "source": [
    "import random\n",
    "lotto = []\n",
    "for i in range(1, 45+1):\n",
    "    lotto.append(i)\n",
    "size = len(lotto)\n",
    "for num in range(1, 6+1):\n",
    "    size -= 1\n",
    "    idx = random.randint(0, size)\n",
    "    result = lotto.pop(idx)\n",
    "    print(result, end = \" \")\n",
    "\n"
   ]
  },
  {
   "cell_type": "code",
   "execution_count": 118,
   "id": "15e84ef6-74b4-4f45-a216-57eea7a3d6f5",
   "metadata": {},
   "outputs": [
    {
     "name": "stdout",
     "output_type": "stream",
     "text": [
      "42 7 30 13 14 5 \n",
      "4 11 5 45 42 21 \n",
      "44 9 12 20 2 11 \n",
      "13 20 25 1 19 30 \n",
      "43 40 31 15 12 33 \n"
     ]
    }
   ],
   "source": [
    "lotto = []\n",
    "\n",
    "for cnt in range(1, 5+1):\n",
    "    for i in range(1, 45+1):\n",
    "        lotto.append(i)\n",
    "    size = len(lotto)\n",
    "    for num in range(1, 6+1):\n",
    "        size -= 1\n",
    "        idx = random.randint(0, size)\n",
    "        result = lotto.pop(idx)\n",
    "        print(result, end = \" \")\n",
    "    lotto.clear()\n",
    "    print()\n"
   ]
  },
  {
   "cell_type": "code",
   "execution_count": 119,
   "id": "91ff3edd-c4ae-4350-9cc8-5f1da6fb100b",
   "metadata": {},
   "outputs": [
    {
     "name": "stdin",
     "output_type": "stream",
     "text": [
      "몇장 살래??? :  10\n"
     ]
    },
    {
     "name": "stdout",
     "output_type": "stream",
     "text": [
      "35 28 40 23 10 5 \n",
      "25 11 41 31 36 23 \n",
      "45 16 22 36 30 9 \n",
      "43 20 1 9 24 37 \n",
      "19 43 12 27 11 20 \n",
      "10 16 19 17 24 29 \n",
      "34 25 38 20 37 8 \n",
      "42 4 12 13 22 27 \n",
      "25 6 32 14 30 11 \n",
      "45 9 10 38 1 23 \n"
     ]
    }
   ],
   "source": [
    "lotto = []\n",
    "cnt = int(input(\"몇장 살래??? : \"))\n",
    "\n",
    "for cnt in range(1, cnt+1):\n",
    "    for i in range(1, 45+1):\n",
    "        lotto.append(i)\n",
    "    size = len(lotto)\n",
    "    for num in range(1, 6+1):\n",
    "        size -= 1\n",
    "        idx = random.randint(0, size)\n",
    "        result = lotto.pop(idx)\n",
    "        print(result, end = \" \")\n",
    "    lotto.clear()\n",
    "    print()\n"
   ]
  },
  {
   "cell_type": "code",
   "execution_count": 124,
   "id": "13dd9584-2d56-4fdc-99e3-356683aa0f46",
   "metadata": {},
   "outputs": [
    {
     "name": "stdin",
     "output_type": "stream",
     "text": [
      "구매를 하시려면 Y 를 아니면 아무키나 누르시오 :  Y\n",
      "몇장 살래??? :  10\n"
     ]
    },
    {
     "name": "stdout",
     "output_type": "stream",
     "text": [
      "13 15 39 14 33 12 \n",
      "38 34 11 37 7 3 \n",
      "20 3 40 26 11 35 \n",
      "13 29 17 28 10 22 \n",
      "35 20 23 31 27 37 \n",
      "14 8 40 44 3 6 \n",
      "19 38 33 14 23 6 \n",
      "26 14 22 4 41 11 \n",
      "29 24 25 15 32 10 \n",
      "9 16 22 40 37 25 \n"
     ]
    },
    {
     "name": "stdin",
     "output_type": "stream",
     "text": [
      "구매를 하시려면 Y 를 아니면 아무키나 누르시오 :  n\n"
     ]
    },
    {
     "name": "stdout",
     "output_type": "stream",
     "text": [
      "프로그램이 종료 됨!!!.\n"
     ]
    }
   ],
   "source": [
    "lotto = []\n",
    "\n",
    "while True:\n",
    "    str1 = input(\"구매를 하시려면 Y 를 아니면 아무키나 누르시오 : \")\n",
    "    if str1 != 'Y':\n",
    "        print(\"프로그램이 종료 됨!!!.\")\n",
    "        break\n",
    "    cnt = int(input(\"몇장 살래??? : \"))\n",
    "    \n",
    "    for cnt in range(1, cnt+1):\n",
    "        for i in range(1, 45+1):\n",
    "            lotto.append(i)\n",
    "        size = len(lotto)\n",
    "        for num in range(1, 6+1):\n",
    "            size -= 1\n",
    "            idx = random.randint(0, size)\n",
    "            result = lotto.pop(idx)           \n",
    "            print(result, end = \" \")\n",
    "        lotto.clear()\n",
    "        print()\n"
   ]
  },
  {
   "cell_type": "code",
   "execution_count": 128,
   "id": "db7c70ef-4b8a-47fd-8589-1a98a9796934",
   "metadata": {},
   "outputs": [
    {
     "name": "stdout",
     "output_type": "stream",
     "text": [
      "[1, 2, 3, 4, 5, 6, 7, 8, 9, 10, 11, 12, 13, 14, 15, 16, 17, 18, 19, 20, 21, 22, 23, 24, 25, 26, 27, 28, 29, 30, 31, 32, 33, 34, 35, 36, 37, 38, 39, 40, 41, 42, 43, 44, 45]\n",
      "[1, 2, 3, 4, 5, 6, 7, 8, 9, 10, 11, 12, 13, 14, 15, 16, 17, 18, 19, 20, 21, 22, 23, 24, 25, 26, 27, 28, 29, 30, 31, 32, 33, 34, 35, 36, 37, 38, 39, 40, 41, 42, 43, 44, 45]\n",
      "********************\n"
     ]
    }
   ],
   "source": [
    "# list 에서 comprehension\n",
    "\n",
    "lotto = []\n",
    "for i in range(1, 45 +1):\n",
    "    lotto.append(i)\n",
    "print(lotto)\n",
    "\n",
    "lotto = [i for i in range(1, 45 +1)]\n",
    "print(lotto)\n",
    "\n",
    "print(\"*\" * 20)\n",
    "\n"
   ]
  },
  {
   "cell_type": "code",
   "execution_count": 130,
   "id": "bd209552-d476-42d8-a530-790c4a50884c",
   "metadata": {},
   "outputs": [
    {
     "name": "stdout",
     "output_type": "stream",
     "text": [
      "[3, 6, 9, 12, 15, 18, 21, 24, 27, 30, 33, 36, 39, 42, 45, 48, 51, 54, 57, 60, 63, 66, 69, 72, 75, 78, 81, 84, 87, 90, 93, 96, 99, 102, 105, 108, 111, 114, 117, 120, 123, 126, 129, 132, 135]\n",
      "[3, 6, 9, 12, 15, 18, 21, 24, 27, 30, 33, 36, 39, 42, 45, 48, 51, 54, 57, 60, 63, 66, 69, 72, 75, 78, 81, 84, 87, 90, 93, 96, 99, 102, 105, 108, 111, 114, 117, 120, 123, 126, 129, 132, 135]\n"
     ]
    }
   ],
   "source": [
    "lotto = []\n",
    "for i in range(1, 45 + 1):\n",
    "    lotto.append(3 * i)\n",
    "print(lotto)\n",
    "\n",
    "lotto = [3 * i for i in range(1, 45 + 1) ]\n",
    "print(lotto)\n",
    "\n",
    "\n",
    "    "
   ]
  },
  {
   "cell_type": "code",
   "execution_count": 133,
   "id": "3b77d754-a670-46e2-93c5-bf03628ea471",
   "metadata": {},
   "outputs": [
    {
     "name": "stdout",
     "output_type": "stream",
     "text": [
      "[6, 12, 18, 24]\n",
      "[6, 12, 18, 24]\n"
     ]
    }
   ],
   "source": [
    "t = 1,2,3,4,5,6,7,8,9\n",
    "l = []\n",
    "\n",
    "#튜플에 있는 값중 짝수만 3을 곱해서 리스트에 저장\n",
    "\n",
    "for num in t:\n",
    "    if num % 2 == 0:\n",
    "        l.append(num * 3)\n",
    "print(l)\n",
    "\n",
    "l = [num * 3 for num in t if num % 2 == 0]\n",
    "\n",
    "print(l)\n",
    "\n"
   ]
  },
  {
   "cell_type": "code",
   "execution_count": 136,
   "id": "e9ba746e-a342-48a1-a627-9a2a7c1afdcd",
   "metadata": {},
   "outputs": [
    {
     "name": "stdout",
     "output_type": "stream",
     "text": [
      "[3, 6, 9, 12, 15, 18, 21, 24, 27, 4, 8, 12, 16, 20, 24, 28, 32, 36, 5, 10, 15, 20, 25, 30, 35, 40, 45, 6, 12, 18, 24, 30, 36, 42, 48, 54]\n",
      "[3, 6, 9, 12, 15, 18, 21, 24, 27, 4, 8, 12, 16, 20, 24, 28, 32, 36, 5, 10, 15, 20, 25, 30, 35, 40, 45, 6, 12, 18, 24, 30, 36, 42, 48, 54]\n"
     ]
    }
   ],
   "source": [
    " # 3 ~ 6단 까지의 곱의 값을 리스트에 추가\n",
    "l = []\n",
    "\n",
    "for dan in range(3, 7):\n",
    "    for gop in range(1, 10):\n",
    "        l.append(dan * gop)\n",
    "print(l)\n",
    "\n",
    "l = []\n",
    "l = [dan * gop for dan in range(3,7)\n",
    "               for gop in range(1, 10)]\n",
    "print(l)"
   ]
  },
  {
   "cell_type": "code",
   "execution_count": 143,
   "id": "bc828fc9-d30f-4ab1-aca1-8081a155c0cb",
   "metadata": {},
   "outputs": [
    {
     "name": "stdout",
     "output_type": "stream",
     "text": [
      "[6, 12, 18, 24, 4, 8, 12, 16, 20, 24, 28, 32, 36, 10, 20, 30, 40, 6, 12, 18, 24, 30, 36, 42, 48, 54]\n",
      "[6, 12, 18, 24, 4, 8, 12, 16, 20, 24, 28, 32, 36, 10, 20, 30, 40, 6, 12, 18, 24, 30, 36, 42, 48, 54]\n"
     ]
    }
   ],
   "source": [
    "l = []\n",
    "for dan in range(3, 7):\n",
    "    for gop in range(1, 10):\n",
    "        if dan * gop % 2 == 0:\n",
    "            l.append(dan * gop)\n",
    "        \n",
    "print(l)\n",
    "\n",
    "\n",
    "l = []\n",
    "l = [dan * gop for dan in range(3, 7)\n",
    "               for gop in range(1, 10) if dan * gop % 2 == 0]\n",
    "\n",
    "print(l)\n",
    "\n",
    "# 빈 리스트에 만 컨프리핸션 가능함"
   ]
  },
  {
   "cell_type": "code",
   "execution_count": 150,
   "id": "45b0b9e1-ee1d-4a88-98cd-db3d1bacd754",
   "metadata": {},
   "outputs": [
    {
     "name": "stdout",
     "output_type": "stream",
     "text": [
      "[(1, 2), (3, 4), (5, 6)]\n",
      "(1, 2)\n",
      "3\n",
      "(3, 4)\n",
      "7\n",
      "(5, 6)\n",
      "11\n",
      "********************\n",
      "1 2\n",
      "3\n",
      "3 4\n",
      "7\n",
      "5 6\n",
      "11\n",
      "********************\n",
      "1 2\n",
      "3\n",
      "3 4\n",
      "7\n",
      "5 6\n",
      "11\n",
      "********************\n",
      "1 2 3\n",
      "6\n",
      "4 5 6\n",
      "15\n",
      "7 8 9\n",
      "24\n",
      "********************\n"
     ]
    }
   ],
   "source": [
    "l1 = [(1, 2), (3, 4), (5, 6)]\n",
    "\n",
    "print(l1)\n",
    "for t in l1:\n",
    "    print(t)\n",
    "    print(t[0] + t[1])\n",
    "print(\"*\" * 20)\n",
    "#a, b = (1, 2)\n",
    "for a,b in l1:\n",
    "    print(a,b)\n",
    "    print(a+b)\n",
    "print(\"*\" * 20)\n",
    "for (a,b) in l1:\n",
    "    print(a,b)\n",
    "    print(a+b)\n",
    "\n",
    "print(\"*\" * 20)\n",
    "\n",
    "l2 = [[1,2,3],[4,5,6],[7,8,9]]\n",
    "for a,b,c in l2:   # a,b,c = [1,2,3]\n",
    "    print(a,b,c)\n",
    "    print(a+b+c)\n",
    "print(\"*\" * 20)\n",
    "\n",
    "l2 = [[1,2,3],[4,5],[7,8,9,10]]\n",
    "# 크기가 다르면 위에 처럼 사용할 수 없다.....\n",
    "# 크기가 같아야 오류가 생기지 않는다.\n",
    "\n",
    "\n"
   ]
  },
  {
   "cell_type": "code",
   "execution_count": 152,
   "id": "b0a12700-b93e-4ce1-977a-cd83e0beca92",
   "metadata": {},
   "outputs": [],
   "source": [
    "# 함수(function) : x 값에 따른 y 값의 변화를 알고 싶을 때\n",
    "'''\n",
    "f(x) = 2x + 3 일때 \n",
    "y = f(3) 에서 y 값은?\n",
    "2(3) + 3 = 9\n",
    "'''\n",
    "def f(x): # 피호출함수  , x : 가인자 , 매개변수 , parameter \n",
    "    return 2 * x + 3\n",
    "    "
   ]
  },
  {
   "cell_type": "code",
   "execution_count": 153,
   "id": "9c07500c-a809-49c6-b6d0-73bc63eb5685",
   "metadata": {},
   "outputs": [
    {
     "name": "stdout",
     "output_type": "stream",
     "text": [
      "9\n"
     ]
    }
   ],
   "source": [
    "i = 3\n",
    "y = f(i)    # 호출함수 ,  i : 실인자, argument \n",
    "print(y)"
   ]
  },
  {
   "cell_type": "code",
   "execution_count": 154,
   "id": "d5658b9e-267e-44f7-aeae-4f07fc8197db",
   "metadata": {},
   "outputs": [
    {
     "name": "stdout",
     "output_type": "stream",
     "text": [
      "13\n"
     ]
    }
   ],
   "source": [
    "y = f(5)\n",
    "print(y)"
   ]
  },
  {
   "cell_type": "code",
   "execution_count": 155,
   "id": "88deb696-fcaa-453a-a467-b8fcb2e70966",
   "metadata": {},
   "outputs": [],
   "source": [
    "'''\n",
    "f(x1, x2) = 3x1 + 5x2 일때\n",
    "y = f(5, 3) 에서 y값의 변화는\n",
    "'''\n",
    "\n",
    "def f(x1, x2):       # parameter\n",
    "    return 3*x1 + 5*x2\n"
   ]
  },
  {
   "cell_type": "code",
   "execution_count": 160,
   "id": "0a430ee2-af66-440c-b3bf-83d1ed162364",
   "metadata": {},
   "outputs": [
    {
     "name": "stdout",
     "output_type": "stream",
     "text": [
      "30\n",
      "28\n"
     ]
    }
   ],
   "source": [
    "y = f(5,3)     # argument : 5 => x1 , 3 => x2\n",
    "print(y)\n",
    "\n",
    "y = f(6,2)\n",
    "print(y)\n",
    "\n",
    "#argument 는 parameter 와 1대 1 대응한다.\n",
    "#argument 는 parameter 의 객수는 같아야 한다.\n",
    "#피호출함수를 실행 하려면 호출 함수의 이름이 같아야한다.\n",
    "#피호출함수를 실행 하려면 같은 이름의 호출 함수를 사용한다.\n",
    "# return문 뒤에 있는 값은 호출함수에게 전달된다.\n",
    "\n"
   ]
  },
  {
   "cell_type": "code",
   "execution_count": null,
   "id": "3020b21d-423a-4b80-b966-67b4ac369ebf",
   "metadata": {},
   "outputs": [],
   "source": [
    "#\n",
    "'''\n",
    "함수 문법\n",
    "\n",
    "def 함수명(parameter1,parameter2,parameter3,...):\n",
    "    명령어1\n",
    "    명령어2\n",
    "    명령어3\n",
    "    ...\n",
    "    명령어n\n",
    "    return 결과값\n",
    "\n",
    "변수 = 함수명(argument1, argument3, argument3, ... )\n",
    "print(변수)\n",
    "\n",
    "'''"
   ]
  },
  {
   "cell_type": "code",
   "execution_count": 162,
   "id": "8ba91d87-1c03-4439-a426-637756e3916b",
   "metadata": {},
   "outputs": [
    {
     "name": "stdout",
     "output_type": "stream",
     "text": [
      "3 * 1 = 3\n",
      "3 * 2 = 6\n",
      "3 * 3 = 9\n",
      "3 * 4 = 12\n",
      "3 * 5 = 15\n",
      "3 * 6 = 18\n",
      "3 * 7 = 21\n",
      "3 * 8 = 24\n"
     ]
    }
   ],
   "source": [
    "# 복잡하고 긴 코드를 반복 실행해야 하는 명령어를 사용하고 싶은 때 함수를 만들자.....\n",
    "for gop in range(1,9):\n",
    "    print(f\"3 * {gop} = {3 * gop}\")\n",
    "\n",
    "\n",
    "def gugu3Dan():\n",
    "    for gop in range(1,9):\n",
    "        print(f\"3 * {gop} = {3 * gop}\")\n"
   ]
  },
  {
   "cell_type": "code",
   "execution_count": 165,
   "id": "898c718a-1abf-4360-b6e6-71f15d395a70",
   "metadata": {},
   "outputs": [
    {
     "name": "stdout",
     "output_type": "stream",
     "text": [
      "3 * 1 = 3\n",
      "3 * 2 = 6\n",
      "3 * 3 = 9\n",
      "3 * 4 = 12\n",
      "3 * 5 = 15\n",
      "3 * 6 = 18\n",
      "3 * 7 = 21\n",
      "3 * 8 = 24\n",
      "3 * 1 = 3\n",
      "3 * 2 = 6\n",
      "3 * 3 = 9\n",
      "3 * 4 = 12\n",
      "3 * 5 = 15\n",
      "3 * 6 = 18\n",
      "3 * 7 = 21\n",
      "3 * 8 = 24\n",
      "3 * 1 = 3\n",
      "3 * 2 = 6\n",
      "3 * 3 = 9\n",
      "3 * 4 = 12\n",
      "3 * 5 = 15\n",
      "3 * 6 = 18\n",
      "3 * 7 = 21\n",
      "3 * 8 = 24\n"
     ]
    }
   ],
   "source": [
    "gugu3Dan()\n",
    "gugu3Dan()\n",
    "gugu3Dan()\n"
   ]
  },
  {
   "cell_type": "code",
   "execution_count": 166,
   "id": "fd7bffd5-3680-4ebc-98b5-25510e48babd",
   "metadata": {},
   "outputs": [],
   "source": [
    "# 함수의 4가지 유형\n",
    "# 첫번째 유형 -> 일반적인 형식 : 매개변수와 반환값이 있는 경우\n",
    "\n",
    "def add(x1, x2):\n",
    "    return x1 + x2\n",
    "\n"
   ]
  },
  {
   "cell_type": "code",
   "execution_count": 167,
   "id": "e3efbf05-e1c2-4531-a0a1-f12371df565a",
   "metadata": {},
   "outputs": [
    {
     "name": "stdout",
     "output_type": "stream",
     "text": [
      "8\n"
     ]
    }
   ],
   "source": [
    "result = add(3,5)\n",
    "print(result)"
   ]
  },
  {
   "cell_type": "code",
   "execution_count": 168,
   "id": "88f9b7c9-066e-48ea-b401-9bd9c02e5a03",
   "metadata": {},
   "outputs": [],
   "source": [
    "# 두번째 유형 -> 매개변수는 있고 반환값이 없는 경우\n",
    "def add(a,b):\n",
    "    print(a + b)"
   ]
  },
  {
   "cell_type": "code",
   "execution_count": 170,
   "id": "d03b10cb-608c-4e91-bccc-f2424bcadf5c",
   "metadata": {},
   "outputs": [
    {
     "name": "stdout",
     "output_type": "stream",
     "text": [
      "3\n",
      "9\n"
     ]
    }
   ],
   "source": [
    "add(1,2)\n",
    "add(3,  6)"
   ]
  },
  {
   "cell_type": "code",
   "execution_count": 171,
   "id": "4e328c44-02fd-4dd8-b646-de01419dbd20",
   "metadata": {},
   "outputs": [],
   "source": [
    "# 세번째 유형 -> 매개변수는 없고 반환값이 있는 경우\n",
    "\n",
    "def add():\n",
    "    x = 10; y = 20;\n",
    "    return x + y"
   ]
  },
  {
   "cell_type": "code",
   "execution_count": 173,
   "id": "35818e2a-a23c-4542-9c66-93505e544eae",
   "metadata": {},
   "outputs": [
    {
     "name": "stdout",
     "output_type": "stream",
     "text": [
      "30\n"
     ]
    }
   ],
   "source": [
    "result = add()\n",
    "print(result)"
   ]
  },
  {
   "cell_type": "code",
   "execution_count": 177,
   "id": "90b917eb-72e0-4648-a229-48d08fb2598c",
   "metadata": {},
   "outputs": [],
   "source": [
    "# 네번째 유형 -> 매개변수도 없고 반환 값도 없는 경우\n",
    "\n",
    "def add():\n",
    "    x=int(input(\"숫자 1을 입력 하세요\")); y=int(input(\"숫자 2를 입력 하세요\"));\n",
    "    print(x + y)"
   ]
  },
  {
   "cell_type": "code",
   "execution_count": 176,
   "id": "43a8e4fe-1847-44ff-bbc2-dbbe60378141",
   "metadata": {},
   "outputs": [
    {
     "name": "stdout",
     "output_type": "stream",
     "text": [
      "30\n"
     ]
    }
   ],
   "source": [
    "add()"
   ]
  },
  {
   "cell_type": "code",
   "execution_count": 178,
   "id": "3821f1f0-16df-4024-8096-835ab09af97d",
   "metadata": {},
   "outputs": [
    {
     "name": "stdin",
     "output_type": "stream",
     "text": [
      "숫자 1을 입력 하세요 3\n",
      "숫자 2를 입력 하세요 4\n"
     ]
    },
    {
     "name": "stdout",
     "output_type": "stream",
     "text": [
      "7\n"
     ]
    }
   ],
   "source": [
    "add()"
   ]
  },
  {
   "cell_type": "code",
   "execution_count": 181,
   "id": "12cd73b9-5adc-4639-a727-0e1d7cd87518",
   "metadata": {},
   "outputs": [
    {
     "name": "stdin",
     "output_type": "stream",
     "text": [
      "시작곱 :  3\n",
      "끝곱 :  8\n"
     ]
    },
    {
     "name": "stdout",
     "output_type": "stream",
     "text": [
      "3 * 3 = 9 \n",
      "3 * 4 = 12 \n",
      "3 * 5 = 15 \n",
      "3 * 6 = 18 \n",
      "3 * 7 = 21 \n",
      "3 * 8 = 24 \n"
     ]
    }
   ],
   "source": [
    "startGop = int(input(\"시작곱 : \"))\n",
    "endGop = int(input(\"끝곱 : \"))\n",
    "\n",
    "for gop in range(startGop,endGop+1):\n",
    "    print(f\"3 * {gop} = {3 * gop} \")"
   ]
  },
  {
   "cell_type": "code",
   "execution_count": 183,
   "id": "4ec5c8ac-ea8b-4038-b477-ccfbf6d6d3ba",
   "metadata": {},
   "outputs": [],
   "source": [
    "def gugu3Dan():\n",
    "    startGop = int(input(\"시작곱 : \"))\n",
    "    endGop = int(input(\"끝곱 : \"))\n",
    "    \n",
    "    for gop in range(startGop,endGop+1):\n",
    "        print(f\"3 * {gop} = {3 * gop} \")"
   ]
  },
  {
   "cell_type": "code",
   "execution_count": 185,
   "id": "b3c3b08a-04f6-4953-aa26-d479fae787b2",
   "metadata": {},
   "outputs": [
    {
     "name": "stdin",
     "output_type": "stream",
     "text": [
      "시작곱 :  4\n",
      "끝곱 :  5\n"
     ]
    },
    {
     "name": "stdout",
     "output_type": "stream",
     "text": [
      "3 * 4 = 12 \n",
      "3 * 5 = 15 \n"
     ]
    }
   ],
   "source": [
    "gugu3Dan()"
   ]
  },
  {
   "cell_type": "code",
   "execution_count": 186,
   "id": "3864f80a-839f-441f-aaf7-c4854b393ea4",
   "metadata": {},
   "outputs": [],
   "source": [
    "def gugu3Dan(startGop, endGop):    \n",
    "    for gop in range(startGop,endGop+1):\n",
    "        print(f\"3 * {gop} = {3 * gop} \")"
   ]
  },
  {
   "cell_type": "code",
   "execution_count": 187,
   "id": "f3f803a0-38c2-4c9f-95ce-13c7610095b8",
   "metadata": {},
   "outputs": [
    {
     "name": "stdout",
     "output_type": "stream",
     "text": [
      "3 * 3 = 9 \n",
      "3 * 4 = 12 \n",
      "3 * 5 = 15 \n",
      "3 * 6 = 18 \n",
      "3 * 7 = 21 \n",
      "3 * 8 = 24 \n"
     ]
    }
   ],
   "source": [
    "gugu3Dan(3,8)"
   ]
  },
  {
   "cell_type": "code",
   "execution_count": 188,
   "id": "71d4012e-15b6-42d7-9145-e3ad05758dd9",
   "metadata": {},
   "outputs": [
    {
     "name": "stdin",
     "output_type": "stream",
     "text": [
      "시작곱 7\n",
      "끝곱 8\n"
     ]
    },
    {
     "name": "stdout",
     "output_type": "stream",
     "text": [
      "3 * 7 = 21 \n",
      "3 * 8 = 24 \n"
     ]
    }
   ],
   "source": [
    "startGop = int(input(\"시작곱\"))\n",
    "endGop = int(input(\"끝곱\"))\n",
    "\n",
    "gugu3Dan(startGop, endGop)"
   ]
  },
  {
   "cell_type": "code",
   "execution_count": 189,
   "id": "d0f24d26-93d2-481c-a7d2-1bddf32d6891",
   "metadata": {},
   "outputs": [],
   "source": [
    "def lottof():\n",
    "    lotto = []\n",
    "    \n",
    "    while True:\n",
    "        str1 = input(\"구매를 하시려면 Y 를 아니면 아무키나 누르시오 : \")\n",
    "        if str1 != 'Y':\n",
    "            print(\"프로그램이 종료 됨!!!.\")\n",
    "            break\n",
    "        cnt = int(input(\"몇장 살래??? : \"))\n",
    "        \n",
    "        for cnt in range(1, cnt+1):\n",
    "            for i in range(1, 45+1):\n",
    "                lotto.append(i)\n",
    "            size = len(lotto)\n",
    "            for num in range(1, 6+1):\n",
    "                size -= 1\n",
    "                idx = random.randint(0, size)\n",
    "                result = lotto.pop(idx)           \n",
    "                print(result, end = \" \")\n",
    "            lotto.clear()\n",
    "            print()\n"
   ]
  },
  {
   "cell_type": "code",
   "execution_count": 190,
   "id": "e2b57c2b-706d-467d-afd0-09305e58609a",
   "metadata": {},
   "outputs": [
    {
     "name": "stdin",
     "output_type": "stream",
     "text": [
      "구매를 하시려면 Y 를 아니면 아무키나 누르시오 :  10\n"
     ]
    },
    {
     "name": "stdout",
     "output_type": "stream",
     "text": [
      "프로그램이 종료 됨!!!.\n"
     ]
    }
   ],
   "source": [
    "lottof()"
   ]
  },
  {
   "cell_type": "code",
   "execution_count": 191,
   "id": "36ca1b73-2005-4087-a866-fd16c611a7da",
   "metadata": {},
   "outputs": [
    {
     "name": "stdin",
     "output_type": "stream",
     "text": [
      "구매를 하시려면 Y 를 아니면 아무키나 누르시오 :  Y\n",
      "몇장 살래??? :  4\n"
     ]
    },
    {
     "name": "stdout",
     "output_type": "stream",
     "text": [
      "28 41 10 40 38 16 \n",
      "8 40 42 9 14 28 \n",
      "33 21 11 12 13 5 \n",
      "32 30 41 14 20 34 \n"
     ]
    },
    {
     "name": "stdin",
     "output_type": "stream",
     "text": [
      "구매를 하시려면 Y 를 아니면 아무키나 누르시오 :  b\n"
     ]
    },
    {
     "name": "stdout",
     "output_type": "stream",
     "text": [
      "프로그램이 종료 됨!!!.\n"
     ]
    }
   ],
   "source": [
    "lottof()"
   ]
  },
  {
   "cell_type": "code",
   "execution_count": 192,
   "id": "c47f59e8-0199-46ae-a770-5a18e0776f19",
   "metadata": {},
   "outputs": [],
   "source": [
    "# parameter 이름을 이용해서 값을 전달\n",
    "\n",
    "def sum1(num1, num2):    # 이름 : 식별자\n",
    "    sum1 = 0\n",
    "    for i in range(num1 , num2+1):\n",
    "        sum1 += i\n",
    "\n",
    "    print(sum1)"
   ]
  },
  {
   "cell_type": "code",
   "execution_count": 193,
   "id": "99a2cd8d-4ec1-49e8-862f-8523e1e10f37",
   "metadata": {},
   "outputs": [
    {
     "name": "stdout",
     "output_type": "stream",
     "text": [
      "7\n"
     ]
    }
   ],
   "source": [
    "sum1(3,4)"
   ]
  },
  {
   "cell_type": "code",
   "execution_count": 195,
   "id": "caa59694-34c6-4568-a9c5-ca008897d749",
   "metadata": {},
   "outputs": [
    {
     "name": "stdout",
     "output_type": "stream",
     "text": [
      "165\n",
      "165\n"
     ]
    }
   ],
   "source": [
    "sum1(10, 20)\n",
    "sum1(num2 = 20, num1 = 10)  # argument 에 parameter의 이름을 사용할 수 있다.\n"
   ]
  },
  {
   "cell_type": "code",
   "execution_count": 196,
   "id": "b09ace01-78f6-49a0-8ff6-7a05b867a9cc",
   "metadata": {},
   "outputs": [],
   "source": [
    "\n",
    "def calc(x1, x2, opt):\n",
    "    if opt == \"add\":\n",
    "        result = x1 + x2\n",
    "    elif opt == \"sub\":\n",
    "        result = x1 - x2\n",
    "    elif opt == \"mul\":\n",
    "        result = x1 * x2\n",
    "    else:\n",
    "        result = x1 / x2\n",
    "\n",
    "    return result"
   ]
  },
  {
   "cell_type": "code",
   "execution_count": 206,
   "id": "f19a7901-b922-4588-8a95-617350de384d",
   "metadata": {},
   "outputs": [
    {
     "name": "stdout",
     "output_type": "stream",
     "text": [
      "30\n",
      "200\n",
      "200\n",
      "\n"
     ]
    }
   ],
   "source": [
    "y = calc(10, 20, \"add\")\n",
    "print(y)\n",
    "\n",
    "y = calc(10, opt = \"mul\", x2 = 20)\n",
    "print(y)\n",
    "\n",
    "y = calc(opt = \"mul\", x2 = 20, x1 = 10)\n",
    "print(y)\n",
    "\n",
    "'''\n",
    "y = calc(opt = \"mul\", 20, x1 = 10)     # SyntaxError: positional argument follows keyword argument\n",
    "print(y)\n",
    "\n",
    "\n",
    "y = calc(10, x2 = 20, \"mul\")     # SyntaxError: positional argument follows keyword argument\n",
    "print(y)\n",
    "\n",
    "\n",
    "'''\n",
    "print()\n",
    "\n"
   ]
  },
  {
   "cell_type": "code",
   "execution_count": 207,
   "id": "724ebbed-b90b-4049-ad39-f7f56af92c96",
   "metadata": {},
   "outputs": [],
   "source": [
    "def gogo():\n",
    "    print(\"집에 가고싶다\")"
   ]
  },
  {
   "cell_type": "code",
   "execution_count": 208,
   "id": "9c235968-5fe6-4983-9aa7-bc33ce64c510",
   "metadata": {},
   "outputs": [
    {
     "name": "stdout",
     "output_type": "stream",
     "text": [
      "집에 가고싶다\n"
     ]
    }
   ],
   "source": [
    "gogo()"
   ]
  },
  {
   "cell_type": "code",
   "execution_count": 209,
   "id": "08cbfdd8-77be-4e8b-9927-0d4ff0eeb90b",
   "metadata": {},
   "outputs": [
    {
     "name": "stdout",
     "output_type": "stream",
     "text": [
      "집에 가고싶다\n"
     ]
    }
   ],
   "source": [
    "gogo()"
   ]
  },
  {
   "cell_type": "code",
   "execution_count": 211,
   "id": "04514cc7-7ed2-4956-ab46-e7ec23a5155b",
   "metadata": {},
   "outputs": [
    {
     "name": "stdout",
     "output_type": "stream",
     "text": [
      "(1, 2, 3, 4, 5)\n"
     ]
    }
   ],
   "source": [
    "'''\n",
    "sum(1)\n",
    "sum(1,2,3,4)\n",
    "sum(1,2,3)\n",
    "\n",
    "'''\n",
    "i = 1,2,3,4,5\n",
    "print(i)  # (1, 2, 3, 4, 5)  -> 튜플\n",
    "# 같은 이름의 함수명을 여러개 만들 수 없다 \n",
    "\n",
    "def add(*para):    # *매개변수(*para) : 튜플 \n",
    "    print(para)\n",
    "\n",
    "\n"
   ]
  },
  {
   "cell_type": "code",
   "execution_count": 212,
   "id": "a67e816a-3d96-4283-a4c1-61accfd347da",
   "metadata": {},
   "outputs": [
    {
     "name": "stdout",
     "output_type": "stream",
     "text": [
      "(1, 2, 3, 4, 5)\n"
     ]
    }
   ],
   "source": [
    "add(1,2,3,4,5)"
   ]
  },
  {
   "cell_type": "code",
   "execution_count": 217,
   "id": "a326f4d6-43fa-4ea0-b6cb-27bf47e920f3",
   "metadata": {},
   "outputs": [],
   "source": [
    "\n",
    "def add_mul(opt, *para):\n",
    "    sum1 = 1\n",
    "    if opt == \"add\":\n",
    "        for i in para:\n",
    "            sum1 += i\n",
    "    elif opt == \"mul\":\n",
    "        for i in para:\n",
    "            sum1 *= i\n",
    "    print(sum1)\n",
    "            "
   ]
  },
  {
   "cell_type": "code",
   "execution_count": 218,
   "id": "a0113755-79f5-4e06-92ea-81252a8b66cc",
   "metadata": {},
   "outputs": [
    {
     "name": "stdout",
     "output_type": "stream",
     "text": [
      "16\n",
      "120\n"
     ]
    }
   ],
   "source": [
    "add_mul(\"add\", 1,2,3,4,5)\n",
    "add_mul(\"mul\", 1,2,3,4,5)"
   ]
  },
  {
   "cell_type": "code",
   "execution_count": 222,
   "id": "e378b44a-714a-448a-b93a-4dbcec899c17",
   "metadata": {},
   "outputs": [
    {
     "ename": "SyntaxError",
     "evalue": "invalid syntax (3735047616.py, line 1)",
     "output_type": "error",
     "traceback": [
      "\u001b[1;36m  Cell \u001b[1;32mIn[222], line 1\u001b[1;36m\u001b[0m\n\u001b[1;33m    dic1 = (\"a\" : 10, \"b\" : 20)\u001b[0m\n\u001b[1;37m                ^\u001b[0m\n\u001b[1;31mSyntaxError\u001b[0m\u001b[1;31m:\u001b[0m invalid syntax\n"
     ]
    }
   ],
   "source": []
  },
  {
   "cell_type": "code",
   "execution_count": 223,
   "id": "f1692a7b-c943-40d8-bbff-e24ab591a1e7",
   "metadata": {},
   "outputs": [],
   "source": [
    "# argument 를 딕셔너리로 받자\n",
    "def dic1(**para):        # **매개변수 : 딕셔너리\n",
    "    print(para)\n",
    "    "
   ]
  },
  {
   "cell_type": "code",
   "execution_count": 224,
   "id": "c07b6966-f9f2-46cc-90a9-96b1aab82815",
   "metadata": {},
   "outputs": [
    {
     "name": "stdout",
     "output_type": "stream",
     "text": [
      "{'a': 10, 'b': 20}\n"
     ]
    }
   ],
   "source": [
    "dic1(a=10,b=20)"
   ]
  },
  {
   "cell_type": "code",
   "execution_count": 225,
   "id": "3e4152ab-e8ad-46ff-8017-324486a27d40",
   "metadata": {},
   "outputs": [],
   "source": [
    "# 함수의 리턴값은 언제나 하나이다.\n",
    "\n",
    "def add(x1, x3):\n",
    "    return x1 + x3"
   ]
  },
  {
   "cell_type": "code",
   "execution_count": 226,
   "id": "0f7a90cb-5822-4568-84d1-f55e19e7c76f",
   "metadata": {},
   "outputs": [
    {
     "name": "stdout",
     "output_type": "stream",
     "text": [
      "9\n"
     ]
    }
   ],
   "source": [
    "result = add(3,6)\n",
    "print(result)"
   ]
  },
  {
   "cell_type": "code",
   "execution_count": 227,
   "id": "e2b63e29-fc6c-4d54-9056-28faeb319c45",
   "metadata": {},
   "outputs": [],
   "source": [
    "# return 은 함수에서 한번만 사용가능하다...\n",
    "def add_nul():\n",
    "    x = 10\n",
    "    y = 3\n",
    "    return x + y, x * y"
   ]
  },
  {
   "cell_type": "code",
   "execution_count": 229,
   "id": "a5569fe2-346b-4816-8f4b-fbafa3eeb00f",
   "metadata": {},
   "outputs": [
    {
     "name": "stdout",
     "output_type": "stream",
     "text": [
      "(13, 30)\n",
      "13 30\n"
     ]
    }
   ],
   "source": [
    "result = add_nul()\n",
    "print(result)\n",
    "print(result[0], result[1])\n"
   ]
  }
 ],
 "metadata": {
  "kernelspec": {
   "display_name": "Python 3 (ipykernel)",
   "language": "python",
   "name": "python3"
  },
  "language_info": {
   "codemirror_mode": {
    "name": "ipython",
    "version": 3
   },
   "file_extension": ".py",
   "mimetype": "text/x-python",
   "name": "python",
   "nbconvert_exporter": "python",
   "pygments_lexer": "ipython3",
   "version": "3.12.9"
  }
 },
 "nbformat": 4,
 "nbformat_minor": 5
}
