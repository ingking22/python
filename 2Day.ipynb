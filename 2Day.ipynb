{
 "cells": [
  {
   "cell_type": "code",
   "execution_count": 1,
   "id": "4ba50c90-419b-4a92-b31f-38cf20475db7",
   "metadata": {},
   "outputs": [
    {
     "name": "stdout",
     "output_type": "stream",
     "text": [
      "['Life', 'is', 'too', 'short']\n"
     ]
    }
   ],
   "source": [
    "str1 = \"Life is too short\"\n",
    "str2 = str1.split()\n",
    "print(str2)   # ['Life', 'is', 'too', 'short'] : 리스트\n",
    "\n"
   ]
  },
  {
   "cell_type": "code",
   "execution_count": 3,
   "id": "881dea4b-fc71-4e29-bf4d-0889a30ede86",
   "metadata": {},
   "outputs": [
    {
     "name": "stdout",
     "output_type": "stream",
     "text": [
      "10\n",
      "[1, 2, 3, 4]\n"
     ]
    }
   ],
   "source": [
    "i=10; #정수 리터널 변수\n",
    "f= 10.5 #실수 리터널 변수\n",
    "s = \"윤병준\" # 문자열형 리터널 변수\n",
    "l = [1,2,3,4] #리스트 변수\n",
    "\n",
    "print(i);\n",
    "print(l);"
   ]
  },
  {
   "cell_type": "code",
   "execution_count": null,
   "id": "b938c4e7-3138-4803-814d-b7cdc57aed42",
   "metadata": {},
   "outputs": [],
   "source": [
    "#리스트자료형 형식\n",
    "l = [] # 빈 리스트\n",
    "l = [1,2,3,4,5] #정수 리스트\n",
    "l = [10.5,2.5,3.8] #실수 리스트\n",
    "l = ['a', 'b', 'c', '이승무'] #문자열 리스트\n",
    "l = [10, \"이승무\", 10.5] #혼합형 리스트\n",
    "l = [10, \"이승무\", 10.5, [1,2,3]] #리스트를 포함한 혼합형 리스트\n",
    "l = [[1,2,3,4],[5,6,7]] #리스트를 포함 리스트\n"
   ]
  },
  {
   "cell_type": "code",
   "execution_count": 14,
   "id": "6349a342-b222-40eb-a6b7-ae21c8697574",
   "metadata": {},
   "outputs": [
    {
     "name": "stdout",
     "output_type": "stream",
     "text": [
      "e\n",
      "['Life', 'is', 'too', 'short']\n",
      "is\n",
      "is\n",
      "is\n",
      "10\n",
      "short\n",
      "r\n",
      "r\n",
      "r\n"
     ]
    }
   ],
   "source": [
    "str1 = \"Life is too short\"\n",
    "#       0123456789 : index\n",
    "#\n",
    "#                  7654321\n",
    "\n",
    "print(str1[3]);\n",
    "\n",
    "l = str1.split();\n",
    "print(l); # ['Life', 'is', 'too', 'short']\n",
    "#              0       1     2       3     : 요소가 가지고 있는 고유의 번호 : index\n",
    "#              4      3      2       1\n",
    "print(l[1]); # is\n",
    "print(l[-3]); #is\n",
    "\n",
    "l = ['Life', 'is', 'too', 'short', 10]\n",
    "\n",
    "str3 = l[1]\n",
    "print(str3);   # is : 문자열\n",
    "i = l[4];\n",
    "print(i);  # 4 : 정수\n",
    "\n",
    "\n",
    "str3 = l[3]\n",
    "print(str3)    # short : 문자열\n",
    "\n",
    "print(str3[3])    # r\n",
    "print(l[3][3]);  # r            넘파이? 때 많이 사용!!!\n",
    "\n",
    "print(str1.split()[3][3])\n",
    "\n"
   ]
  },
  {
   "cell_type": "code",
   "execution_count": 24,
   "id": "072f1e24-dc0d-4765-9703-8061d188ccb3",
   "metadata": {},
   "outputs": [
    {
     "name": "stdout",
     "output_type": "stream",
     "text": [
      "1\n",
      "2\n",
      "3\n",
      "Life\n",
      "is\n",
      "Lifeis\n",
      "[3, 4, 5]\n",
      "LifeLife\n",
      "10\n",
      "20\n",
      "1010\n",
      "f\n"
     ]
    }
   ],
   "source": [
    "l = [1, 2, 'Life', 'is', [3,4,5], 'too', [1] , 0.5, 'short', \"10\"]  \n",
    "#    0  1     2      3      4       5     6     7     8        9    \n",
    "print(l[0]); # 정수\n",
    "print(l[1])  # 정수\n",
    "# 정수 + 정수   ex) 10 +  20\n",
    "\n",
    "print(l[0] + l[1])   \n",
    "print(l[2])   # 문자열\n",
    "print(l[3])   # 문자열\n",
    "# 문자열 + 문자열 : 연결 연산자 \n",
    "\n",
    "print(l[2] + l[3])   # Lifeis \n",
    "print(l[4]) # 리스트\n",
    "\n",
    "#문자열 * 정수 : 반복연산자 \n",
    "print(l[2] * l[1])   # LifeLife\n",
    "print(l[9])   # \"10\" 문자열\n",
    "# print(l[9] + 10)    # TypeError: can only concatenate str (not \"int\") to str\n",
    "\n",
    "print(int(l[9]) + 10)   # 20\n",
    "print(l[9] + str(10))   # 1010\n",
    "\n",
    "#   l[2]  에 있는 f 를 출력\n",
    "\n",
    "print(l[2][2]);   # l[2]  -> life   -> l2[2][2]   -> f"
   ]
  },
  {
   "cell_type": "code",
   "execution_count": 30,
   "id": "6867a70f-ea30-40ae-a6ef-b4abf5e598ac",
   "metadata": {},
   "outputs": [
    {
     "name": "stdout",
     "output_type": "stream",
     "text": [
      "['a', 'b', 'c']\n",
      "b\n",
      "['a', 'b', 'c']\n",
      "b\n",
      "b\n",
      "b\n"
     ]
    }
   ],
   "source": [
    "a = [1, 2, 3, [\"a\", \"b\", \"c\"]]\n",
    "#    0  1  2         3\n",
    "#               0    1    2\n",
    "#    4   3  2        1          -\n",
    "#               3    2    1     -\n",
    "print(a[3])\n",
    "print(a[3][1])\n",
    "print(a[-1])\n",
    "print(a[-1][-2])\n",
    "print(a[3][-2])\n",
    "print(a[-1][1])"
   ]
  },
  {
   "cell_type": "code",
   "execution_count": 36,
   "id": "65d6eb54-2ed5-40e2-a8ee-4b6bc8501376",
   "metadata": {},
   "outputs": [
    {
     "name": "stdout",
     "output_type": "stream",
     "text": [
      "['a', 'b', ['life', 'is']]\n",
      "['life', 'is']\n",
      "life\n",
      "f\n",
      "i\n"
     ]
    }
   ],
   "source": [
    "a = [1, 2, 3, [\"a\", \"b\", [\"life\", \"is\"]]]\n",
    "#    0  1  2                3\n",
    "#               0    1          2\n",
    "#                           0      1\n",
    "print(a[3])   # ['a', 'b', ['life', 'is']]\n",
    "print(a[3][2])  # ['life', 'is']\n",
    "print(a[3][2][0])   # life\n",
    "#                     0123\n",
    "print(a[3][2][0][2])\n",
    "\n",
    "print(a[3][2][0][1])\n",
    "# 리스트를 이용한 indexing\n"
   ]
  },
  {
   "cell_type": "code",
   "execution_count": 52,
   "id": "ba25b03b-9725-496b-80ce-16515651703e",
   "metadata": {},
   "outputs": [
    {
     "name": "stdout",
     "output_type": "stream",
     "text": [
      "Life\n",
      "[1, 2, 'Life', 'is']\n",
      "[1, 2, 'Life', 'is']\n",
      "[1, 2]\n",
      "[1]\n",
      "1\n",
      "[]\n",
      "[3, 4, 5]\n",
      "[3, 4]\n",
      "Life\n",
      "['Life']\n",
      "[]\n",
      "[]\n"
     ]
    }
   ],
   "source": [
    "str1 = \"Life is too short\"\n",
    "print(str1[0:4])    # slicing\n",
    "l = [1, 2, 'Life', 'is', [3, 4, 5], 'too', [1], 0.5, 'short', '10']\n",
    "#    0  1    2      3        4      \n",
    "print(l[0:4])   # [1, 2, 'Life', 'is']\n",
    "\n",
    "print(l[0:+4])\n",
    "print(l[0:+2])\n",
    "print(l[0:1])   # 1    : 리스트 slicing  의 결과 -> 리스트\n",
    "print(l[0])     # 1    : 리스트 indexing 의 결과 -> 요소의 자료형\n",
    "print(l[0:0])      # [] :  빈 리스트\n",
    "\n",
    "print(l[4])    # [3, 4, 5]   요소 리스트 \n",
    "print(l[4][0:+2]);    # [3, 4] \n",
    "###############################################\n",
    "\n",
    "print(l[2])    # Life\n",
    "print(l[2: 2 + 1])   #   ['Life']\n",
    "print(l[2: 2 + 0])   #   []\n",
    "print(l[3:3])        #   []\n"
   ]
  },
  {
   "cell_type": "code",
   "execution_count": 69,
   "id": "99965f21-d4a7-436d-bf08-56e4747a92d8",
   "metadata": {},
   "outputs": [
    {
     "name": "stdout",
     "output_type": "stream",
     "text": [
      "[1, 2, 3, 4, 5, 6, 7, 8]\n",
      "[1, 2, 3, 4, 1, 2, 3, 4, 1, 2, 3, 4]\n",
      "[1, 2, 'Life', 'is', [3, 4, 5], 'too', [1], 0.5, 'short', '10']\n",
      "[3, 4, 5, 1]\n",
      "[3, 4, 5, 3, 4, 5]\n",
      "['Life', 'i', 's']\n",
      "Lifeis\n",
      "hello\n",
      "['h', 'e', 'l', 'l', 'o']\n",
      "[1, 3, 4, 5]\n",
      "[3, 4, 5, 3, 4, 5]\n"
     ]
    }
   ],
   "source": [
    "# 리스트 연산자  : + : 연결 연산자  * : 반복연산자\n",
    "l1 = [1,2,3,4]\n",
    "l2 = [5,6,7,8]\n",
    "print(l1+l2)    #  [1, 2, 3, 4, 5, 6, 7, 8]\n",
    "print(l1 * 3)   # [1, 2, 3, 4, 1, 2, 3, 4, 1, 2, 3, 4]\n",
    "print(l)    # [1, 2, 'Life', 'is', [3, 4, 5], 'too', [1], 0.5, 'short', '10']\n",
    "\n",
    "# print(l[4] + l[1])   # TypeError: can only concatenate list (not \"int\") to list\n",
    "print(l[4] + l[6]);   # [3, 4, 5, 1]\n",
    "\n",
    "\n",
    "print(l[4] * l[1])   # 리스트 * 정수 반복연산자  [3, 4, 5, 3, 4, 5]\n",
    "# print(l[2:3] + l[3])   #  can only concatenate list (not \"str\") to list    리스트 + 문자열  (\"is\")\n",
    "print(l[2:3] + list(l[3]))     # ['Life', 'i', 's']         list(l[3])  : [\"i\", \"s\"] \n",
    "print(l[2] + l[3])   # 문자열 + 문자열\n",
    "print(\"hello\");\n",
    "print(list(\"hello\"));    # ['h', 'e', 'l', 'l', 'o']\n",
    "# print(l[0] + l[4])   # 정수 + 리스트       unsupported operand type(s) for +: 'int' and 'list'\n",
    "# list() 리스트로 변환하는 변환 함수 : 정수를 리스트로 변환 할 수 없음\n",
    "# 정수를 리스트로 캐스팅 할 수 없기때문에 슬라이싱 이용해서 정수를 리스트로 만들기 !!!\n",
    "\n",
    "\n",
    "print(l[0:1] + l[4])\n",
    "print(l[4] * l[1])   # 리스트 * 정수 -> 반복연산자\n",
    "\n",
    "\n"
   ]
  },
  {
   "cell_type": "code",
   "execution_count": 95,
   "id": "cc315458-804e-49e8-a42e-805100d67de2",
   "metadata": {},
   "outputs": [
    {
     "name": "stdout",
     "output_type": "stream",
     "text": [
      "Lf stosot\n",
      "['Life', 'too']\n",
      "trohs oot si efiL\n",
      "['short', 'too', 'is', 'Life']\n",
      "Life is too short\n",
      "['Life', 'is', 'too', 'short']\n",
      "Lif\n",
      "Lif\n",
      "['Life', 'is', 'too']\n",
      "['Life', 'is', 'too']\n",
      "ife is too short\n",
      "ife is too short\n",
      "ife is too short\n",
      "['too', 'short']\n",
      "['too', 'short']\n",
      "['too', 'short']\n",
      "Life is too short\n"
     ]
    }
   ],
   "source": [
    "str1 = \"Life is too short\";\n",
    "result = ['Life', 'is', 'too', 'short']\n",
    "\n",
    "print(str1[::2])  # Lf stosot\n",
    "print(result[::2])  # ['Life', 'too']\n",
    "\n",
    "print(str1[::-1])\n",
    "print(result[::-1])\n",
    "\n",
    "print(str1[:])\n",
    "print(result[:])\n",
    "\n",
    "print(str1[0:3])\n",
    "print(str1[:3])\n",
    "\n",
    "print(result[0:3])\n",
    "print(result[:3])\n",
    "\n",
    "print(str1[1:17])\n",
    "print(str1[1:])\n",
    "\n",
    "print(str1[1:len(str1)])\n",
    "print(result[2:4])\n",
    "print(result[2:])\n",
    "print(result[2:len(result)])\n",
    "\n",
    "\n"
   ]
  },
  {
   "cell_type": "code",
   "execution_count": 102,
   "id": "3a57c25e-0730-4eda-bd05-c5208be11571",
   "metadata": {},
   "outputs": [
    {
     "name": "stdout",
     "output_type": "stream",
     "text": [
      "Life is too short\n",
      "['Life', 'is', 'too', 'short']\n",
      "17\n",
      "4\n"
     ]
    }
   ],
   "source": [
    "str1 = \"Life is too short\";\n",
    "result = ['Lyfe', 'is', 'too', 'short']\n",
    "# Life 를 \"Your Leg\"\n",
    "str2 = str1.replace(\"Life\", \"Your Leg\")     # 리스트에서는 replace 사용X\n",
    "\n",
    "print(str1)\n",
    "\n",
    "result[0] = \"Life\"   # 요소 변경 \n",
    "print(result)\n",
    "print(len(str1))\n",
    "\n",
    "print(len(result))\n",
    "\n",
    "\n"
   ]
  },
  {
   "cell_type": "code",
   "execution_count": 116,
   "id": "0356ea71-2b0d-42fd-804d-6878cadd8574",
   "metadata": {},
   "outputs": [
    {
     "name": "stdout",
     "output_type": "stream",
     "text": [
      "['life', 'is', 'too']\n",
      "['life', 'is', 'too']\n",
      "['life', 'is', 'too']\n",
      "None\n",
      "['life', 'is', 'too', 'short']\n",
      "['life', 'short']\n",
      "['life', 'is', 'short']\n",
      "['life', 'is', 'too', 'short']\n",
      "['life', 'is', 'too', 'short', [1, 2, 3]]\n",
      "[1, 2, 3, 4, 5, 6, 7]\n"
     ]
    }
   ],
   "source": [
    "# 리스트 함수 \n",
    "# 리스트에 요소 추가 \n",
    "# append()\n",
    "\n",
    "l1 = ['life', 'is']\n",
    "# l1 에 'too' 추가\n",
    "print(l1 + ['too'])\n",
    "\n",
    "l2 = l1 + ['too']\n",
    "print(l2)\n",
    "\n",
    "l1.append(\"too\")\n",
    "print(l1)\n",
    "\n",
    "\n",
    "print(l1.append(\"short\"))    # None\n",
    "print(l1)\n",
    "l1 = ['life', 'short']\n",
    "#       0       1\n",
    "# apend 마지막 요소에 추가됨\n",
    "\n",
    "print(l1)\n",
    "\n",
    "# 중간에 삽입 : insert\n",
    "# is 를 life 와 short 사이에 삽입\n",
    "l1.insert(1,\"is\")\n",
    "print(l1)    # ['life', 'is', 'short']\n",
    "l1.insert(2, \"too\")\n",
    "print(l1)    # ['life', 'is', 'too', 'short']\n",
    "\n",
    "# 확장 : extend \n",
    "\n",
    "l1.append([1,2,3])\n",
    "print(l1)   # ['life', 'is', 'too', 'short', [1, 2, 3]]\n",
    "a = [1,2,3,4]\n",
    "b = [5,6,7]\n",
    "# [1,2,3,4,5,6,7]\n",
    "\n",
    "a.extend(b)\n",
    "print(a)  # [1, 2, 3, 4, 5, 6, 7]\n",
    "\n",
    "# 추가 : append   , insert   ,  extend\n"
   ]
  },
  {
   "cell_type": "code",
   "execution_count": 130,
   "id": "c96e8cab-9478-45b8-b575-3fcaf25b6f76",
   "metadata": {},
   "outputs": [
    {
     "name": "stdout",
     "output_type": "stream",
     "text": [
      "['Life', 'too', 'short']\n",
      "['Life', 'too']\n",
      "['Life', 'too', 'short']\n",
      "['Life', 'short']\n",
      "[]\n",
      "None\n",
      "['Life', 'too', 'short']\n",
      "short\n",
      "['Life', 'too']\n",
      "is\n",
      "Life\n"
     ]
    }
   ],
   "source": [
    "#요소 삭제\n",
    "\n",
    "l2 = ['Life', 'is', 'too', 'short']\n",
    "#       0       1     2       3\n",
    "# index 를 이용해서 요소 삭제 : del\n",
    "\n",
    "del l2[1]\n",
    "print(l2)    # ['Life', 'too', 'short']\n",
    "#                 0       1        2\n",
    "del l2[2]\n",
    "print(l2)   # ['Life', 'too']\n",
    "\n",
    "#요소를 이용해서 삭제 : remove\n",
    "\n",
    "l2 = ['Life', 'is', 'too', 'short']\n",
    "l2.remove(\"is\")\n",
    "\n",
    "print(l2)   # ['Life', 'too', 'short']\n",
    "\n",
    "l2.remove(\"too\")\n",
    "print(l2)   # ['Life', 'short']\n",
    "\n",
    "# 전체 삭제 : clear\n",
    "\n",
    "l2.clear()\n",
    "print(l2)\n",
    "\n",
    "####  삭제한 값을 받아오기 : pop    마지막 요소를 지우고 지운값 반환\n",
    "l2 = ['Life', 'is', 'too', 'short']\n",
    "result = l2.remove('is')   # None\n",
    "print(result)\n",
    "\n",
    "print(l2)   # ['Life', 'too', 'short']\n",
    "#                 0     1        2\n",
    "\n",
    "result = l2.pop()\n",
    "print(result);\n",
    "print(l2)\n",
    "l2 = ['Life', 'is', 'too', 'short']\n",
    "#       0       1     2       3\n",
    "\n",
    "result = l2.pop(1)\n",
    "print(result)   # is\n",
    "\n",
    "result = l2.pop(0)\n",
    "print(result)\n",
    "\n"
   ]
  },
  {
   "cell_type": "code",
   "execution_count": 161,
   "id": "34c95217-0d68-4ae2-99dd-3e7752edb304",
   "metadata": {},
   "outputs": [
    {
     "name": "stdout",
     "output_type": "stream",
     "text": [
      "1\n",
      "is\n"
     ]
    }
   ],
   "source": [
    "import random\n",
    "l2 = ['Life', 'is', 'too', 'short']\n",
    "#       0       1     2       3\n",
    "idx = random.randint(0,len(l2)-1)\n",
    "print(idx)\n",
    "\n",
    "result = l2.pop(idx)\n",
    "print(result)"
   ]
  },
  {
   "cell_type": "code",
   "execution_count": 174,
   "id": "1c9e8fe5-1891-495d-a5fe-0f730f34e525",
   "metadata": {},
   "outputs": [
    {
     "name": "stdout",
     "output_type": "stream",
     "text": [
      "[1, 2, 3, 4, 5]\n",
      "[5, 4, 3, 2, 1]\n",
      "['a', 'b', 'c']\n",
      "['c', 'b', 'a']\n",
      "['가', '나', '다']\n",
      "['다', '나', '가']\n",
      "['a', 'b', 'c', '가', '나', '다']\n",
      "['다', '나', '가', 'c', 'b', 'a']\n",
      "\n"
     ]
    }
   ],
   "source": [
    "# 정렬 -- 오름차순, 내림차순\n",
    "l = [4,2,5,1,3]\n",
    "# 오름차순\n",
    "l.sort();\n",
    "print(l)\n",
    "# 내림차순\n",
    "l = [4,2,5,1,3]\n",
    "l.sort(reverse=True)\n",
    "print(l)\n",
    "l = ['b', 'a', 'c']\n",
    "l.sort()\n",
    "print(l)\n",
    "l = ['b', 'a', 'c']\n",
    "l.sort(reverse=True)\n",
    "print(l)\n",
    "l=['나', '다', '가']\n",
    "l.sort()\n",
    "print(l)\n",
    "l=['나', '다', '가']\n",
    "l.sort(reverse=True)\n",
    "print(l)\n",
    "\n",
    "l = ['나', '다', '가','b', 'a', 'c' ]\n",
    "l.sort()\n",
    "print(l)\n",
    "l = ['나', '다', '가','b', 'a', 'c' ]\n",
    "l.sort(reverse=True)\n",
    "print(l)\n",
    "\n",
    "'''\n",
    "l = [4,2,5,1,3,'나', '다', '가','b', 'a', 'c']   # 문자열, 숫자 안됨\n",
    "l.sort()\n",
    "print(l)    '<' not supported between instances of 'str' and 'int'\n",
    "'''\n",
    "\n",
    "print()"
   ]
  },
  {
   "cell_type": "code",
   "execution_count": 181,
   "id": "9495a4aa-7744-44c7-bf3c-c038d0f9c771",
   "metadata": {},
   "outputs": [
    {
     "name": "stdout",
     "output_type": "stream",
     "text": [
      "8\n",
      "8\n",
      "2\n",
      "\n"
     ]
    }
   ],
   "source": [
    "str1 = \"Life is too short\";\n",
    "idx = str1.find(\"too\")   # too 의 첫번쨰 글자인 t 의 index 를 찾는다.\n",
    "print(idx)\n",
    "\n",
    "idx = str1.index(\"too\")\n",
    "print(idx)\n",
    "\n",
    "l1 = ['Life', 'is', 'too', 'short']\n",
    "idx = l1.index('too') # 요소의 위치\n",
    "print(idx)\n",
    "\n",
    "'''\n",
    "idx = l1.find('too') # find는 리스트에서 사용할 수 없다.\n",
    "print(idx)\n",
    "'''\n",
    "print()\n",
    "\n",
    "### indexing , slicing \n",
    "\n",
    "### 리스트 추가 함수 : append , insert, extend\n",
    "\n",
    "### 리스트 삭제 함수 : del, remove , pop, clear\n",
    "\n",
    "### 리스트 정렬 : sort(),   sort(reverse=True) \n",
    "\n",
    "### 리스트의 검색 함수 : index    !!!!!!!! find 안됨\n",
    "\n"
   ]
  },
  {
   "cell_type": "code",
   "execution_count": 197,
   "id": "2d0abc7f-ee27-4c60-9694-43ea68f89e63",
   "metadata": {},
   "outputs": [
    {
     "name": "stdout",
     "output_type": "stream",
     "text": [
      "[1, 2, 3, 4]\n",
      "(1, 2, 3, 4)\n",
      "()\n",
      "[(), (), ()]\n",
      "([], [], [])\n",
      "32\n",
      "2\n",
      "(2,)\n",
      "(1, 2)\n",
      "1 2 3 4 5 6\n",
      "(1, 2, 3, 4, 5, 6)\n",
      "(5,)\n",
      "(5,)\n"
     ]
    }
   ],
   "source": [
    "#리터널 : 자연수 -> 정수 리터널 (10), 실수 리터널 (10.5)  자연어 리터널 : \" \", ' '  ,  \"\"\" \"\"\" ,  ''' '''\n",
    "#리스트 : []\n",
    "#튜플 : ()\n",
    "l = [1,2,3,4]\n",
    "print(l)\n",
    "\n",
    "t = (1,2,3,4)\n",
    "print(t)         # 튜플\n",
    "l = [] # 빈리스트\n",
    "t = () #빈튜플\n",
    "\n",
    "print(t)\n",
    "\n",
    "test = [(),(),()]\n",
    "print(test);\n",
    "test2 = ([],[],[])\n",
    "print(test2)\n",
    "\n",
    "\n",
    "print((3 + 5) * 4) # () : 최우선연산자\n",
    "print((2));   # () : 최우선 연산자\n",
    "print((2,));  # 튜플\n",
    "\n",
    "print((1,2))  # 튜플 \n",
    "\n",
    "print(1,2,3,4,5,6)   # 집합 : set    1 2 3 4 5 6\n",
    "print((1,2,3,4,5,6))   # (1, 2, 3, 4, 5, 6)\n",
    "print((3 + 2,))   # 튜플    (5,)\n",
    "t = (3+2,)\n",
    "print(t)\n",
    "\n"
   ]
  },
  {
   "cell_type": "code",
   "execution_count": 217,
   "id": "8cdc2964-495f-4354-9356-119dc4a9b0b4",
   "metadata": {},
   "outputs": [
    {
     "name": "stdout",
     "output_type": "stream",
     "text": [
      "(1, 2, 3, 4, 5, 6)\n",
      "('test', 'test1', 'test23')\n",
      "{1, 2, 3, 4, 5, 6}\n",
      "['Your leg', 'is', 'too', 'short']\n",
      "too\n",
      "too\n",
      "('too', 'short')\n",
      "['Your leg', 'is', 'too', 'short']\n",
      "\n",
      "2\n",
      "4\n"
     ]
    }
   ],
   "source": [
    "\n",
    "t = () # 빈 튜플\n",
    "t = (1,2,3,4,5) #정수 튜플\n",
    "t = (10.5,2.5,3.8) #실수 튜플\n",
    "t = ('a', 'b', 'c', '이승무') #문자열 튜플\n",
    "t = (10, \"이승무\", 10.5) #혼합형 튜플\n",
    "t = (10, \"이승무\", 10.5, [1,2,3]) #리스트를 포함한 튜플\n",
    "t = (10, \"이승무\", 10.5, (1,2,3)) #튜플을 포함한 튜플\n",
    "\n",
    "t = ([1,2,3,4],[5,6,7]) #리스트를 포함 튜플\n",
    "t = ([1,2,3,4],(5,6,7)) #튜플과 리스트를 포함한 튜플\n",
    "t = 1,2,3,4,5,6    # 튜플   소괄호 없이 초기화된 변수는 튜플이다.\n",
    "t1 = \"test\", \"test1\", \"test23\"\n",
    "\n",
    "print(t)\n",
    "print(t1)\n",
    "\n",
    "\n",
    "\n",
    "s = set((1,2,3,4,5,6))    #집합\n",
    "print(s)\n",
    "\n",
    "# 튜플은 리스트와 같다 \n",
    "print(l1)\n",
    "l1 = ['Life', 'is', 'too', 'short']\n",
    "#       0       1     2        3\n",
    "\n",
    "print(l1[2])\n",
    "t1 = ('Life', 'is', 'too', 'short')\n",
    "print(t1[2])\n",
    "print(t1[2:2+2])\n",
    "\n",
    "l1[0] = 'Your leg'\n",
    "print(l1)\n",
    "\n",
    "'''\n",
    "t1[0] = 'Your leg'      #'tuple' object does not support item assignment\n",
    "print(t1)\n",
    "'''\n",
    "# 튜플은 값이 안변한다\n",
    "print()\n",
    "\n",
    "# 리스트는 요소의 값을 변경할 수 있지만, 튜플은 요소의 값을 변결할 수 없다.\n",
    "# 추가 , 삭제 도 안된다.   튜플은 파이썬의 상수\n",
    "# index만 가능함 \n",
    "\n",
    "result = t1.index('too')\n",
    "print(result)\n",
    "print(len(t1))\n",
    "\n",
    "# 튜플 은 indexing, slicing, index(), len() , count() 가능 !!\n",
    "\n"
   ]
  },
  {
   "cell_type": "code",
   "execution_count": 220,
   "id": "e6b8ca5f-5e08-42e5-a721-4ebb0c5f96ff",
   "metadata": {},
   "outputs": [
    {
     "name": "stdout",
     "output_type": "stream",
     "text": [
      "2\n",
      "3\n",
      "3\n"
     ]
    }
   ],
   "source": [
    "str2 = \"hellow\"\n",
    "l2 = [1,2,3,3,4,5,3]\n",
    "t2 = (1,2,3,3,4,5,3)\n",
    "print(str2.count(\"l\"))\n",
    "print(l2.count(3))\n",
    "print(t2.count(3))"
   ]
  },
  {
   "cell_type": "code",
   "execution_count": 232,
   "id": "9c8ce12e-4863-44b1-a94b-94118be10dc9",
   "metadata": {},
   "outputs": [
    {
     "name": "stdout",
     "output_type": "stream",
     "text": [
      "('Life', 'is', 'too', 'short')\n",
      "Life\n",
      "Lifeis\n",
      "Life\n",
      "Lifeis\n",
      "['Life']\n",
      "('Life',)\n",
      "['Life', 'too']\n",
      "('Life', 'too')\n",
      "('Life', 'is', 'Life', 'is')\n"
     ]
    }
   ],
   "source": [
    "l1 = ['Life', 'is', 'too', 'short']\n",
    "t1 = ('Life', 'is', 'too', 'short')\n",
    "\n",
    "t1 = 'Life', 'is', 'too', 'short'\n",
    "\n",
    "print(t1)\n",
    "print(l1[0]) # 문자열\n",
    "print(l1[0] + l1[1])  # 문자열 + 문자열\n",
    "print(t1[0])\n",
    "print(t1[0] + t1[1]) # 문자열\n",
    "print(l1[0:1])   # 리스트\n",
    "print(t1[0:1])   # ('Life',) 튜플\n",
    "# print(l1[0:1] + l[2])   리스트 + 문자\n",
    "print(l1[0:1] + l1[2:2+1])  #리스트 + 리스트\n",
    "# print(t1[0:1] + t1[2])   튜플 + 문자\n",
    "print(t1[0:1] + t1[2:2+1])  # 튜플 + 튜플\n",
    "print(t1[0:2] * 2)\n"
   ]
  },
  {
   "cell_type": "code",
   "execution_count": 249,
   "id": "15440d42-082f-467a-a306-a2c75e10a887",
   "metadata": {},
   "outputs": [
    {
     "name": "stdout",
     "output_type": "stream",
     "text": [
      "['h', 'e', 'l', 'l', 'o']\n",
      "('h', 'e', 'l', 'l', 'o')\n",
      "['h', 'e', 'l', 'l', 'o']\n",
      "('h', 'e', 'l', 'l', 'o')\n",
      "['h', 'e', 'l', 'l', 'o']윤병준\n",
      "hello\n",
      "hello\n",
      "Life is too short\n",
      "Life:is:too:short\n",
      "h:e:l:l:o\n",
      "윤병준 10\n",
      "20\n"
     ]
    }
   ],
   "source": [
    "#형변환 : int, str, list , tuple\n",
    "str3 = \"hello\"\n",
    "l3 = list(str3)\n",
    "print(l3)\n",
    "\n",
    "t3 = tuple(str3)\n",
    "print(t3)\n",
    "\n",
    "l3 = list(t3)\n",
    "print(l3)\n",
    "\n",
    "t3 = tuple(l3)\n",
    "print(t3)\n",
    "\n",
    "str4 = str(l3)\n",
    "print(str4 + \"윤병준\")   # \"['h', 'e', 'l', 'l', 'o']\"\n",
    "\n",
    "str4 = \"\".join(l3)\n",
    "print(str4)\n",
    "\n",
    "str4 = \"\".join(t3)\n",
    "print(str4)\n",
    "\n",
    "l1 = ['Life', 'is', 'too', 'short']\n",
    "str4 = \" \".join(l1)\n",
    "\n",
    "print(str4)\n",
    "\n",
    "str4 = \":\".join(l1)\n",
    "\n",
    "print(str4)\n",
    "\n",
    "#  str() 문자열 변환함수는 리스트나 튜플에서는 자체가 모두 문자열로 변환이 된다.\n",
    "#  리스트나 튜플 안에 있는 요소들을 붙여서 문장으로 출력하려면 .join() 사용하자.\n",
    "\n",
    "str3 = \"hello\"\n",
    "str4 = \":\".join(str3)\n",
    "print(str4)   # h:e:l:l:o\n",
    "\n",
    "print(\"윤병준 \" + str(10))\n",
    "print(10 + int(\"10\"))\n",
    "\n"
   ]
  },
  {
   "cell_type": "code",
   "execution_count": 262,
   "id": "aec5a7e8-b533-43c0-be44-1e8b10c93ef3",
   "metadata": {},
   "outputs": [
    {
     "name": "stdout",
     "output_type": "stream",
     "text": [
      "3\n",
      "윤주원\n",
      "윤병준\n",
      "이승무의 나이는 30살이고 키는175.5입니다\n",
      "윤병준의 나이는 30살이고 키는175.5입니다\n",
      "윤병준의 나이는 30살이고 키는175.5입니다\n"
     ]
    }
   ],
   "source": [
    "'''\n",
    "    리터널(상수) : 자연수 : 정수리터널, 실수 리터널\n",
    "                   자연어 : 문자열 리터널 : \"\", '', \"\"\" \"\"\", ''' ''' \n",
    "    리스트 : []\n",
    "    튜플 : (,)\n",
    "    딕셔너리(사전) : {\"단어\" : \"내용\", .....}\n",
    "                     {\"키\"   : \"값\", .....}   \n",
    "                     \n",
    "                     : json, map \n",
    "                     \n",
    "'''\n",
    "\n",
    "l = []  #빈리스트\n",
    "t = ()  #빈튜플\n",
    "dic = {} #빈 딕셔너리     \n",
    "dic = {1: '윤병준', 2: '윤주원', 3:'윤병호' }\n",
    "# 딕셔너리에서는 index를 사용하지 않는다.\n",
    "l4 = [1,2,3,4]\n",
    "#     0 1 2 3\n",
    "\n",
    "print(l4[2])\n",
    "print(dic[2])\n",
    "dic = {\"name\" : \"윤병준\", \"age\" : 30, \"height\": 175.5}\n",
    "print(dic[\"name\"])\n",
    "# 딕셔너리에서는 값을 가져올 때는 키를 사용한다\n",
    "\n",
    "#f문자를 사용해서 출력하세요\n",
    "name = \"이승무\"\n",
    "age = 30\n",
    "height = 175.5\n",
    "# 윤병준의 나이는 30살이고 키는 175.5입니다\n",
    "print(f\"{name}의 나이는 {age}살이고 키는{height}입니다\")\n",
    "l4 = [\"윤병준\",30, 175.5]\n",
    "#print(\"{1}의 나이는 {2}살이고 키는 {3}입니다\", format)\n",
    "print(f\"{l4[0]}의 나이는 {l4[1]}살이고 키는{l4[2]}입니다\")\n",
    "\n",
    "d = {\"name\" : \"윤병준\", \"age\" : 30, \"height\": 175.5}\n",
    "\n",
    "print(f\"{d[\"name\"]}의 나이는 {d[\"age\"]}살이고 키는{d[\"height\"]}입니다\")\n"
   ]
  },
  {
   "cell_type": "code",
   "execution_count": 273,
   "id": "edc91f64-00a9-4ac6-90b4-e0e8f0437706",
   "metadata": {},
   "outputs": [
    {
     "name": "stdout",
     "output_type": "stream",
     "text": [
      "[1, 2, 3, 4]\n",
      "[1, 10, 3, 4]\n",
      "{1: '숭'}\n",
      "30\n",
      "50\n",
      "{'name': '윤병준', 2: 50, 'height': 175.5, 'addr': '성남'}\n",
      "숭\n",
      "숭\n"
     ]
    }
   ],
   "source": [
    "l = [1,2,3,4]\n",
    "#    0 1 2 3\n",
    "print(l)\n",
    "l[1] = 10\n",
    "print(l)\n",
    "\n",
    "print(dic)\n",
    "\n",
    "dic = {'name': '윤병준', 2: 30, 'height': 175.5}\n",
    "print(dic[2])\n",
    "dic[2] = 50\n",
    "print(dic[2])\n",
    "\n",
    "# l[4] = 20    IndexError: list assignment index out of range\n",
    "\n",
    "dic[\"addr\"] = \"성남\"\n",
    "print(dic)\n",
    "# 딕셔너리는 키가 있으면 수정이 되고 키가 없으면 추가가 된다.\n",
    "# 딕셔너리는 키로 구별하므로 키의 중복을 허용하지 않는다.\n",
    "\n",
    "dic = {1:\"이\", 1:\"숭\"}   \n",
    "print(dic[1])\n",
    "dic = {1:\"이\"}\n",
    "dic[1] = \"숭\"\n",
    "print(dic[1]) # 키가 중복된 경우 마지막 값을 갖는다.\n",
    "\n",
    "\n"
   ]
  },
  {
   "cell_type": "code",
   "execution_count": 289,
   "id": "21534da2-e40a-49d8-85fd-e1b11b079704",
   "metadata": {
    "scrolled": true
   },
   "outputs": [
    {
     "name": "stdout",
     "output_type": "stream",
     "text": [
      "병\n",
      "윤병준\n",
      "윤병준\n",
      "None\n",
      "서울\n",
      "윤병준\n",
      "30\n",
      "900\n",
      "1000\n",
      "1400\n"
     ]
    }
   ],
   "source": [
    "# 딕셔너리 함수 \n",
    "\n",
    "dic1 = {'name': '윤병준', 'age': 30, 'height': 175.5}\n",
    "\n",
    "print(dic1['name'][1])   # dic1['name'] 의 결과가 문자열 이므로 결과에 대한 index 가능\n",
    "print(dic1['name'])   # 키를 이용하여 값을 가져옴\n",
    "\n",
    "print(dic1.get('name')) # get() 를 이용하여 값을 가져옴\n",
    "\n",
    "# print(dic1['addr'])   # KeyError: 'addr'  에러발생\n",
    "\n",
    "print(dic1.get(\"addr\"))    # None  반환  오류 발생을 막기 위해서 \n",
    "print(dic1.get(\"addr\", '서울'))    # 키가 있으면 value 없으면 기본값 설정 가능\n",
    "print(dic1.get(\"name\", \"홍길동\"))\n",
    "print(dic1.get(\"age\", 0))\n",
    "\n",
    "\n",
    "dic1 = {'classic' : 500, 'pop' : 700, 'jazz' : 900}\n",
    "dic2 = {'classic' : 500, 'pop' : 700}\n",
    "#  print(dic1['jazz'] + dic2['jazz'])     에러 발생\n",
    "print(dic1.get('jazz', 0) + dic2.get('jazz', 0))    # 900 + 0\n",
    "print(dic1.get('classic', 0) + dic2.get('classic', 0))  \n",
    "print(dic1.get('pop', 0) + dic2.get('pop', 0))    \n"
   ]
  },
  {
   "cell_type": "code",
   "execution_count": 296,
   "id": "25b66e67-b6d0-4eb9-9041-4aab74f90a0b",
   "metadata": {},
   "outputs": [
    {
     "name": "stdout",
     "output_type": "stream",
     "text": [
      "[1, 3, 4]\n",
      "{'name': '윤병준', 'height': 175.5}\n",
      "[]\n",
      "{}\n",
      "윤병준\n",
      "{'age': 30, 'height': 175.5}\n"
     ]
    }
   ],
   "source": [
    "#요소 삭제 \n",
    "d = {'name': '윤병준', 'age': 30, 'height': 175.5}\n",
    "l = [1,2,3,4]\n",
    "\n",
    "# 리스트에서 index 를 이용해서 2를 삭제 하시요 \n",
    "# del, remove, \n",
    "del l[1]\n",
    "print(l)\n",
    "\n",
    "del d['age']\n",
    "print(d)\n",
    "\n",
    "del l[:]\n",
    "print(l)\n",
    "l.clear()\n",
    "\n",
    "d.clear()\n",
    "\n",
    "print(d)\n",
    "\n",
    "d = {'name': '윤병준', 'age': 30, 'height': 175.5}\n",
    "l = [1,2,3,4]\n",
    "\n",
    "result = d.pop('name')\n",
    "print(result)\n",
    "print(d)\n",
    "\n",
    "# 딕셔너리 삭제 : clear, pop(key), del\n",
    "\n",
    "\n"
   ]
  },
  {
   "cell_type": "code",
   "execution_count": 303,
   "id": "aa292130-adfb-479d-8862-7788a23dd825",
   "metadata": {},
   "outputs": [
    {
     "name": "stdout",
     "output_type": "stream",
     "text": [
      "dict_keys(['name', 'age', 'height'])\n",
      "dict_values(['윤병준', 30, 175.5])\n",
      "dict_items([('name', '윤병준'), ('age', 30), ('height', 175.5)])\n"
     ]
    }
   ],
   "source": [
    "# 딕셔너리에 있는 키를 가져오기\n",
    "d = {'name': '윤병준', 'age': 30, 'height': 175.5}\n",
    "\n",
    "print(d.keys())\n",
    "\n",
    "#딕셔너리에 있는 값 가져오기 \n",
    "print(d.values())\n",
    "\n",
    "#키와 값을 튜플로 가져오기 \n",
    "print(d.items())\n",
    "\n",
    "\n"
   ]
  },
  {
   "cell_type": "code",
   "execution_count": 310,
   "id": "28feeff2-4ff8-483a-ad96-1cb541ec34a0",
   "metadata": {},
   "outputs": [
    {
     "name": "stdout",
     "output_type": "stream",
     "text": [
      "{1, 2, 3, 4, 5}\n",
      "{1, 2, 3, 4, 5}\n",
      "{1, 2, 3, 4, 5}\n",
      "{1, 2, 3, 4, 5}\n",
      "{'o', 'h', 'l', 'e'}\n"
     ]
    }
   ],
   "source": [
    "#정수 , 실수 , 문자열 리터널\n",
    "#리스트\n",
    "#튜플\n",
    "#딕셔너리 : {} 빈 딕셔너리, {\"키\" : \"값\",....}\n",
    "#집합     : {1,2,3,4,5} : 집합은 {}  안됨 {1} 집합은 적어도 값을 하나 이상 가져야 한다.\n",
    "s = {1,2,3,4,5}\n",
    "print(s)\n",
    "\n",
    "s = set([1,2,3,4,5])\n",
    "print(s)\n",
    "\n",
    "s = set((1,2,3,4,5))\n",
    "print(s)\n",
    "\n",
    "s = {1,2,2,3,4,5,5}    # 집합은 중복값을 허용하지 않는다.\n",
    "print(s)\n",
    "\n",
    "str1 = \"hello\"\n",
    "\n",
    "s = set(str1)   #집합은 순서를 가지지 않는다.\n",
    "print(s)\n",
    "\n"
   ]
  },
  {
   "cell_type": "code",
   "execution_count": 318,
   "id": "cd2668de-a62c-4a11-a175-947e3ebcf08e",
   "metadata": {},
   "outputs": [
    {
     "name": "stdout",
     "output_type": "stream",
     "text": [
      "{1, 2, 3, 4, 5, 6}\n",
      "{1, 2, 3, 4, 5, 6}\n",
      "{3, 4}\n",
      "{3, 4}\n",
      "{1, 2}\n",
      "{1, 2}\n",
      "{5, 6}\n",
      "{5, 6}\n"
     ]
    }
   ],
   "source": [
    "# 합집합, 교집합, 차집합\n",
    "\n",
    "s1 = {1,2,3,4}\n",
    "s2 = {3,4,5,6}\n",
    "\n",
    "#합집합\n",
    "print(s1.union(s2))\n",
    "print(s1 | s2)\n",
    "\n",
    "#교집합\n",
    "print(s1.intersection(s2))\n",
    "print(s1 & s2)\n",
    "\n",
    "#차집합\n",
    "print(s1.difference(s2))\n",
    "print(s1 - s2)\n",
    "\n",
    "print(s2.difference(s1))\n",
    "print(s2 - s1)\n",
    "\n"
   ]
  },
  {
   "cell_type": "code",
   "execution_count": 338,
   "id": "065c3583-18d1-4301-ba51-e2bc0ced3dfb",
   "metadata": {},
   "outputs": [
    {
     "name": "stdout",
     "output_type": "stream",
     "text": [
      "[1, 2, 3, 4, 5, 6]\n",
      "{1, 2, 3, 4, 6}\n",
      "{1, 2, 3, 4, 6, 'a'}\n",
      "{1, 2, 3, 4, 6, (6, 7, 8, 9), 'a'}\n",
      "{1, 2, 3, 4, 6, (6, 7, 8, 9), 7, 8, 9, 'a'}\n",
      "{1, 2, 3, 4, 6, (6, 7, 8, 9), 7, 8, 9, 10, 11, 12, 13, 'a'}\n",
      "{1, 2, 3, 4, 6, (6, 7, 8, 9), 7, 8, 9, 11, 12, 13, 'a'}\n",
      "{2, 3, 4, 6, (6, 7, 8, 9), 7, 8, 9, 11, 12, 13, 'a'}\n",
      "{3, 4, 6, (6, 7, 8, 9), 7, 8, 9, 11, 12, 13, 'a'}\n",
      "{4, 6, (6, 7, 8, 9), 7, 8, 9, 11, 12, 13, 'a'}\n",
      "set()\n"
     ]
    }
   ],
   "source": [
    "#\n",
    "l = [1,2,3,4,5]\n",
    "# 리스트요소 추가하기 \n",
    "l.append(6)\n",
    "print(l)\n",
    "\n",
    "s1 = {1,2,3,4}\n",
    "s1.add(6)\n",
    "print(s1)\n",
    "\n",
    "s1.add('a')    \n",
    "print(s1)\n",
    "s1.add((6,7,8,9))\n",
    "print(s1)\n",
    "\n",
    "# 한번에 여러개의 요소 추가  :  리스트 , 튜플을 인자로 사용\n",
    "s1.update((6,7,8,9))\n",
    "print(s1)\n",
    "\n",
    "s1.update([10,11,12,13])\n",
    "print(s1)\n",
    "\n",
    "# 하나 삭제 \n",
    "s1.remove(10)\n",
    "print(s1)\n",
    "s1.pop()    # 임의의 요소 삭제됨   \n",
    "print(s1)\n",
    "s1.pop()\n",
    "print(s1)\n",
    "s1.pop()\n",
    "print(s1)\n",
    "s1.clear()\n",
    "print(s1)\n",
    "\n",
    "\n",
    "\n",
    "\n",
    "\n"
   ]
  },
  {
   "cell_type": "code",
   "execution_count": 339,
   "id": "59eecf14-f4cf-45ce-a4f8-1eaa03d1ef61",
   "metadata": {},
   "outputs": [
    {
     "name": "stdout",
     "output_type": "stream",
     "text": [
      "False\n"
     ]
    }
   ],
   "source": [
    "# 리스트, 튜플, 딕셔너리, 집합\n",
    "# 부울 자료형 : \n",
    "# b = True\n",
    "# b = False\n",
    "b = True    # 부울타입은 첫글자가 대문자!!!\n",
    "b = False\n",
    "\n",
    "true = 10 # 정수형 변수\n",
    "print(b)\n",
    "\n",
    "b = \"true\" # 문자열\n",
    "\n",
    "\n"
   ]
  },
  {
   "cell_type": "code",
   "execution_count": 355,
   "id": "242517c0-ab85-4414-b496-c72166005791",
   "metadata": {},
   "outputs": [
    {
     "name": "stdout",
     "output_type": "stream",
     "text": [
      "True\n",
      "True\n",
      "True\n",
      "True\n",
      "False\n",
      "False\n",
      "False\n",
      "11\n",
      "True\n",
      "True\n",
      "윤년\n"
     ]
    }
   ],
   "source": [
    "# 부울 타입을 사용하는 때 \n",
    "# 논리연산\n",
    "\n",
    "\n",
    "print( True and True)\n",
    "print( True or False)\n",
    "\n",
    "b1 = True\n",
    "b2 = True\n",
    "b3 = False\n",
    "\n",
    "print(b1 and b2)\n",
    "print(b1 or b3 )\n",
    "\n",
    "# 부울타입의 결과를 가져오는 연잔사는 비교(관계)연산자\n",
    "# < , >, <=, >=, != , ==\n",
    "\n",
    "a = 10\n",
    "b = 20\n",
    "c = 30\n",
    "d = 15\n",
    "\n",
    "\n",
    "print(a > b)   # 부울타입의 결과 False\n",
    "print(c <= d)\n",
    "\n",
    "print(a > b and c <= d )\n",
    "#논리연산을 하는 경우에는 비교연산자와 같이 사용 (부울 타입의 결과를 가져오기 위해서)\n",
    "\n",
    "print(10 + 1)\n",
    "\n",
    "# 합격하기 위해서는 모든 과목이 40점 이상이고 평균이 60 이상이어야 한다.\n",
    "mat = 40\n",
    "eng = 80\n",
    "\n",
    "# 논리연산 True 나 False를 이용한 연산 : and, or \n",
    "# 부울타입 결과를 얻기 위해서는 비교연산자를 사용!!!\n",
    "result = mat >= 40 and eng >= 40 and (mat + eng)  / 2 >= 60\n",
    "print(result)\n",
    "\n",
    "\n",
    "# 4년마다 한번씩 윤년이지만 100년마다는 윤년이 아니라고 한다. 그렇지만 400년마다는 \n",
    "#윤년이다. 그렇다면 2200년은 윤년인가? 평년인가?\n",
    "year = 2400\n",
    "\n",
    "result = year % 4 == 0 and year % 100 != 0 or year % 400 == 0\n",
    "print(result)\n",
    "\n",
    "\n",
    "if result : \n",
    "    print(\"윤년\")\n",
    "else:\n",
    "    print(\"평년\")\n"
   ]
  },
  {
   "cell_type": "code",
   "execution_count": 371,
   "id": "57c4a161-70cc-49cf-95e0-86e9100eed9a",
   "metadata": {},
   "outputs": [
    {
     "name": "stdout",
     "output_type": "stream",
     "text": [
      "True\n",
      "False\n",
      "True\n",
      "True\n",
      "False\n",
      "True\n",
      "False\n",
      "True\n",
      "()\n",
      "False\n",
      "True\n",
      "False\n",
      "False\n",
      "참\n"
     ]
    }
   ],
   "source": [
    "# int(), str(), float(), list(), tuple(), set(), \n",
    "# bool()  : 모든 데이터를 부울 타입으로 형변환\n",
    "print(bool(\"윤병준\"));   # 모든 문자열은 True 로 변환\n",
    "print(bool(\"\")) #blank : False\n",
    "print(bool(100))   # True\n",
    "print(bool(-100))   # True    0이 아닌 모든 숫자는 True 이다 \n",
    "print(bool(0))      # False\n",
    "print(bool([1,2,3])) # True  \n",
    "print(bool([]))      # False\n",
    "print(bool((1,2,3,))) # True\n",
    "print(())   # 빈트풀\n",
    "print(bool(()))    # False\n",
    "print(bool({1:\"윤\"}))  # True\n",
    "print(bool(({})))   #False\n",
    "print(bool(None))   #False\n",
    "\n",
    "if \"윤병준\":\n",
    "    print(\"참\")\n",
    "else:\n",
    "    print(\"거짓\")\n",
    "\n",
    "\n"
   ]
  },
  {
   "cell_type": "code",
   "execution_count": 379,
   "id": "12b6d051-2a54-48a7-9044-1fbf0e1dbf6c",
   "metadata": {},
   "outputs": [
    {
     "name": "stdout",
     "output_type": "stream",
     "text": [
      "<class 'int'>\n",
      "<class 'float'>\n",
      "<class 'str'>\n",
      "<class 'list'>\n",
      "<class 'tuple'>\n",
      "<class 'set'>\n",
      "<class 'dict'>\n",
      "\n"
     ]
    }
   ],
   "source": [
    "# 변수가 가지고 있는 자료형을 확인\n",
    "i = 10\n",
    "f = 109.5\n",
    "str1 = \"apple\"\n",
    "l = [1,2,3,4]\n",
    "t = (1,2,3,4)\n",
    "s = {1,2,3,4}\n",
    "d = {1:\"윤\"}\n",
    "\n",
    "print(type(i))    # <class 'int'>\n",
    "print(type(f))    # <class 'float'>\n",
    "print(type(str1)) # <class 'str'>\n",
    "print(type(l))    # <class 'list'>\n",
    "print(type(t))    # <class 'tuple'>\n",
    "print(type(s))    # <class 'set'>\n",
    "print(type(d))    # <class 'dict'>\n",
    "\n",
    "'''\n",
    "if type(i).\n",
    "    print(\"asddadsasdadsa\")\n",
    "else:\n",
    "    print(\"aqwr\")\n",
    "'''\n",
    "print()"
   ]
  },
  {
   "cell_type": "code",
   "execution_count": 389,
   "id": "8c33a4ba-4982-4ca6-a671-deefdafc31dc",
   "metadata": {},
   "outputs": [
    {
     "name": "stdout",
     "output_type": "stream",
     "text": [
      "10 20 30\n",
      "10 20 30\n",
      "10 20 30\n",
      "10 20 30\n",
      "10 20 30\n",
      "10 20 30\n",
      "10 20 30\n",
      "10 20 30\n",
      "10 2.0 윤병준\n"
     ]
    }
   ],
   "source": [
    "# 변수를 만드는 여러가지 방법\n",
    "i = 10\n",
    "j = 20\n",
    "\n",
    "i, j, k = 10, 20, 30\n",
    "print(i,j,k)\n",
    "\n",
    "i, j, k = (10, 20, 30)\n",
    "print(i,j,k)\n",
    "\n",
    "(i, j, k) = (10, 20, 30)\n",
    "print(i,j,k)\n",
    "\n",
    "\n",
    "(i, j, k) = 10, 20, 30\n",
    "print(i,j,k)\n",
    "\n",
    "i, j, k = [10, 20, 30]\n",
    "print(i,j,k)\n",
    "\n",
    "[i, j, k] = [10, 20, 30]\n",
    "print(i,j,k)\n",
    "\n",
    "[i, j, k] = (10, 20, 30)\n",
    "print(i,j,k)\n",
    "\n",
    "(i, j, k) = [10, 20, 30]\n",
    "print(i,j,k)\n",
    "\n",
    "a, b, c = 10, 2.0, \"윤병준\"\n",
    "print(a,b,c)\n"
   ]
  },
  {
   "cell_type": "code",
   "execution_count": 391,
   "id": "9fdd0872-d243-4ccd-affd-73ece2f545e7",
   "metadata": {},
   "outputs": [
    {
     "name": "stdout",
     "output_type": "stream",
     "text": [
      "20 10\n"
     ]
    }
   ],
   "source": [
    "#값 서로 교환하기\n",
    "a = 10;\n",
    "b = 20;\n",
    "temp = a;\n",
    "\n",
    "'''\n",
    "a = b\n",
    "b = temp\n",
    "print(a,b)\n",
    "'''\n",
    "\n",
    "a = 10;\n",
    "b = 20;\n",
    "\n",
    "a, b = b, a\n",
    "print(a, b)\n"
   ]
  },
  {
   "cell_type": "code",
   "execution_count": 395,
   "id": "e001763f-dd06-4091-bde5-bf9707918d68",
   "metadata": {},
   "outputs": [
    {
     "name": "stdout",
     "output_type": "stream",
     "text": [
      "[10, 20, 30]\n",
      "[10, 20, 30]\n",
      "[10, 200, 30]\n",
      "[10, 200, 30]\n",
      "[10, 200, 30]\n",
      "[10, 20, 30]\n",
      "[10, 200, 30]\n"
     ]
    }
   ],
   "source": [
    "l1 = [10, 20, 30]\n",
    "l2 = l1\n",
    "print(l1)\n",
    "print(l2)\n",
    "\n",
    "l2[1] = 200\n",
    "print(l2)\n",
    "print(l1)\n",
    "\n",
    "\n",
    "l2 = l1[:]\n",
    "print(l2)\n",
    "l2[1] = 20\n",
    "print(l2)\n",
    "print(l1)\n",
    "\n",
    "\n"
   ]
  }
 ],
 "metadata": {
  "kernelspec": {
   "display_name": "Python 3 (ipykernel)",
   "language": "python",
   "name": "python3"
  },
  "language_info": {
   "codemirror_mode": {
    "name": "ipython",
    "version": 3
   },
   "file_extension": ".py",
   "mimetype": "text/x-python",
   "name": "python",
   "nbconvert_exporter": "python",
   "pygments_lexer": "ipython3",
   "version": "3.12.9"
  }
 },
 "nbformat": 4,
 "nbformat_minor": 5
}
